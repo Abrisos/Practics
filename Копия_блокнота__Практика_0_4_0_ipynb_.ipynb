{
  "nbformat": 4,
  "nbformat_minor": 0,
  "metadata": {
    "colab": {
      "provenance": []
    },
    "kernelspec": {
      "name": "python3",
      "display_name": "Python 3"
    },
    "language_info": {
      "name": "python"
    }
  },
  "cells": [
    {
      "cell_type": "markdown",
      "source": [
        "Введите ваше ФИО:"
      ],
      "metadata": {
        "id": "k8oVfdwrMXyc"
      }
    },
    {
      "cell_type": "code",
      "execution_count": null,
      "metadata": {
        "id": "5mcBLsKMI1-5"
      },
      "outputs": [],
      "source": [
        "Петрик Артём Алексндрович"
      ]
    },
    {
      "cell_type": "markdown",
      "source": [
        "***Дисклеймер***\n",
        "\n",
        "В данной практике запрещено использования функций:\n",
        "\n",
        "\n",
        "*   sum()\n",
        "*   min()\n",
        "*   max()\n",
        "*   average()\n",
        "*   reversed()\n",
        "*   sorted()\n",
        "*   готовые функции или библиотеки\n"
      ],
      "metadata": {
        "id": "8HbYUbm3Jw3o"
      }
    },
    {
      "cell_type": "markdown",
      "source": [
        "\n",
        "**Задача 1:**\n",
        "\n",
        "\n",
        "\n",
        "Интернет-магазин предлагает следующие условия скидок:\n",
        "\n",
        "*   Для заказов больше 1000 единиц, клиент получает скидку 5%. Если клиент использует промокод SUPERDISCOUNT, он получает скидку 10%.\n",
        "*  Для заказов стоимостью более 5000 единиц, клиент получает скидку 15%, а использование промокода SUPERDISCOUNT увеличивает скидку до 20%.\n",
        "\n",
        "Этап 1:\n",
        "Ввод:\n",
        "```\n",
        "Введите стоимость единицы товара: 5\n",
        "Введите количество товара: 1000\n",
        "Введите промокод: GiVEMEDISCONT\n",
        "```\n",
        "\n",
        "Вывод:\n",
        "\n",
        "```\n",
        "Ваша скидка: 5%\n",
        "Итоговая сумма: 4750.0\n",
        "```\n",
        "Этап 2:\n",
        "\n",
        "Оформите ваш код в виде функции"
      ],
      "metadata": {
        "id": "HmX0c6YPJSQr"
      }
    },
    {
      "cell_type": "code",
      "source": [
        "def saleCalc(price, amount, promo):\n",
        "  sale = 0\n",
        "  if 1000 < amount <= 5000:\n",
        "    sale += 0.05\n",
        "  if amount > 5000:\n",
        "    sale += 0.15\n",
        "  if promo == 'SUPERDISCOUNT':\n",
        "    if sale == 0.05:\n",
        "      sale += 0.1\n",
        "    if sale == 0.15:\n",
        "      sale == 0.2\n",
        "  print('Ваша скидка:', sale*100, '%')\n",
        "  print('Итоговая сумма:', price*amount - price*amount*sale)\n",
        "\n",
        "saleCalc(5,1001,'GIVEMEDISCONT')\n",
        "\n",
        "\n",
        "\n"
      ],
      "metadata": {
        "id": "OAIMIpklMN5D",
        "colab": {
          "base_uri": "https://localhost:8080/"
        },
        "outputId": "f2dfa86d-d598-49ac-ef75-1f3574883f2b"
      },
      "execution_count": null,
      "outputs": [
        {
          "output_type": "stream",
          "name": "stdout",
          "text": [
            "Ваша скидка: 5.0 %\n",
            "Итоговая сумма: 4754.75\n"
          ]
        }
      ]
    },
    {
      "cell_type": "markdown",
      "source": [
        "**Задача 2:**\n",
        "\n",
        "Этап 1:\n",
        "Напишите программу способную отфильтровать список и вывести только положительные элементы\n",
        "\n",
        "\n",
        "Ввод:\n",
        "```\n",
        "-1 5 1 2 -3\n",
        "```\n",
        "\n",
        "Вывод:\n",
        "\n",
        "```\n",
        "5 1 2\n",
        "```\n",
        "\n",
        "Этап 2:\n",
        "\n",
        "Оформите ваш код в виде функции"
      ],
      "metadata": {
        "id": "eeRVWpuLNGJ0"
      }
    },
    {
      "cell_type": "code",
      "source": [
        "def filter(arr):\n",
        "  ans = []\n",
        "  for x in user_input:\n",
        "    if x > 0:\n",
        "      ans.append(x)\n",
        "  return ans\n",
        "\n",
        "\n",
        "user_input = [-1, 5, 1, 2, -3]\n",
        "print(filter(user_input))\n"
      ],
      "metadata": {
        "id": "Xbi6bL0WOE9N",
        "colab": {
          "base_uri": "https://localhost:8080/"
        },
        "outputId": "9530d0fc-8ace-4399-dfd9-ef0e3f29315c"
      },
      "execution_count": null,
      "outputs": [
        {
          "output_type": "stream",
          "name": "stdout",
          "text": [
            "[5, 1, 2]\n"
          ]
        }
      ]
    },
    {
      "cell_type": "markdown",
      "source": [
        "**Задача 3:**\n",
        "\n",
        "Этап 1:\n",
        "Напишите программу реализующую Алгоритм Евклида\n",
        "\n",
        "\n",
        "> Алгоритм Евклида – это алгоритм нахождения наибольшего общего делителя (НОД) пары целых чисел.\n",
        "\n",
        "\n",
        "\n",
        "Ввод:\n",
        "```\n",
        "30 18\n",
        "```\n",
        "\n",
        "Вывод:\n",
        "\n",
        "```\n",
        "6\n",
        "```\n",
        "\n",
        "Этап 2:\n",
        "Оформите ваш код в виде функции\n"
      ],
      "metadata": {
        "id": "lV-w6G-POa6F"
      }
    },
    {
      "cell_type": "code",
      "source": [
        "def algEvk(input):\n",
        "  maxInput = input[0]\n",
        "  minInput = input[0]\n",
        "  for x in input:\n",
        "    if x > maxInput:\n",
        "      maxInput = x\n",
        "    if x < minInput:\n",
        "      minInput = x\n",
        "  delit = minInput\n",
        "  ost = maxInput % minInput\n",
        "  if ost == 0:\n",
        "    return minInput\n",
        "  else:\n",
        "    newOst = ost\n",
        "    while newOst != 0:\n",
        "      oldOst = newOst\n",
        "      newOst = delit % newOst\n",
        "      delit = oldOst\n",
        "    return oldOst\n",
        "\n",
        "\n",
        "\n",
        "user_input = [30, 18]\n",
        "print(algEvk(user_input))\n"
      ],
      "metadata": {
        "id": "43Dl5tIpOZsu",
        "colab": {
          "base_uri": "https://localhost:8080/"
        },
        "outputId": "9918d3af-46e9-4f46-a094-e32a49f7f78a"
      },
      "execution_count": null,
      "outputs": [
        {
          "output_type": "stream",
          "name": "stdout",
          "text": [
            "6\n"
          ]
        }
      ]
    },
    {
      "cell_type": "markdown",
      "source": [
        "**Задача 4:**\n",
        "\n",
        "Этап 1:\n",
        "Напишите функцию программу, которая принимает строку и возвращает список слов и количество их упомнинаний в предложении\n",
        "\n",
        "Этап 2:\n",
        "Оформите ваш код в виде функции\n",
        "\n",
        "Ввод:\n",
        "```\n",
        "apple banana apple\n",
        "```\n",
        "\n",
        "Вывод:\n",
        "\n",
        "```\n",
        "apple: 2,\n",
        "banana: 1\n",
        "```"
      ],
      "metadata": {
        "id": "WIfPFxpsO0zL"
      }
    },
    {
      "cell_type": "code",
      "source": [
        "def count(user_input):\n",
        "  ans = {}\n",
        "  for x in user_input.split():\n",
        "    if not ans.get(x):\n",
        "      ans[x] = 1\n",
        "    else:\n",
        "      ans[x] += 1\n",
        "  return ans\n",
        "\n",
        "\n",
        "print(count('apple banana apple'))"
      ],
      "metadata": {
        "id": "DgsmFeW5Po_x",
        "colab": {
          "base_uri": "https://localhost:8080/"
        },
        "outputId": "8bd95a34-e50d-40a0-c6d9-6a788b084342"
      },
      "execution_count": null,
      "outputs": [
        {
          "output_type": "stream",
          "name": "stdout",
          "text": [
            "{'apple': 2, 'banana': 1}\n"
          ]
        }
      ]
    },
    {
      "cell_type": "markdown",
      "source": [
        "**Задача 5:**\n",
        "\n",
        "Этап 1:\n",
        "Детектор анаграмм Напишите программу на Python, которая принимает в качестве входных данных две строки и проверяет, являются ли они анаграммами друг друга\n",
        "\n",
        "Этап 2:\n",
        "Оформите ваш код в виде функции\n",
        "\n",
        "Ввод:\n",
        "```\n",
        "listen, silent\n",
        "```\n",
        "\n",
        "Вывод:\n",
        "\n",
        "```\n",
        "True\n",
        "```"
      ],
      "metadata": {
        "id": "5BmIJLUZP9I-"
      }
    },
    {
      "cell_type": "code",
      "source": [
        "def isAnogramm(first, second):\n",
        "  ans = {}\n",
        "  for x in first:\n",
        "    if not ans.get(x):\n",
        "      ans[x] = 1\n",
        "    else:\n",
        "      ans[x] += 1\n",
        "  for x in second:\n",
        "    if not ans.get(x):\n",
        "      ans[x] = 1\n",
        "    else:\n",
        "      ans[x] += 1\n",
        "  summa = 0\n",
        "  for x in ans.values():\n",
        "    summa += x\n",
        "  if summa == len(ans.keys())*2:\n",
        "    return True\n",
        "  else:\n",
        "    return False\n",
        "\n",
        "print(isAnogramm('нора', 'рано'))\n"
      ],
      "metadata": {
        "id": "7LNW8DuHQJwH",
        "colab": {
          "base_uri": "https://localhost:8080/"
        },
        "outputId": "a07947d2-8fa2-490d-c39c-30e4aa105f95"
      },
      "execution_count": null,
      "outputs": [
        {
          "output_type": "stream",
          "name": "stdout",
          "text": [
            "True\n"
          ]
        }
      ]
    },
    {
      "cell_type": "markdown",
      "source": [
        "**Задача 5:**\n",
        "\n",
        "Шифр ​​Цезаря\n",
        "\n",
        "Напишите программу на Python, которая реализует шифр Цезаря, простой метод шифрования, который заменяет каждую букву буквой на фиксированное количество позиций вниз по алфавиту. Программа должна запрашивать у пользователя сообщение и значение сдвига, а затем шифровать и расшифровывать сообщение.\n",
        "\n",
        "Этап 1:\n",
        "\n",
        "Напишите код для реализации данной задачи\n",
        "\n",
        "Этап 2:\n",
        "\n",
        "Оформите код в виде нескольких функций:\n",
        "\n",
        "* Зашифровывает сообщение\n",
        "* Расшифровывает сообщение"
      ],
      "metadata": {
        "id": "-SIWYSq2QKBh"
      }
    },
    {
      "cell_type": "code",
      "source": [
        "def encryption(message, shift):\n",
        "  newMessage = ''\n",
        "  for x in message:\n",
        "    if x != ' ':\n",
        "      newIndx = alph.index(x) + shift\n",
        "      if newIndx < 33:\n",
        "        newMessage += alph[newIndx]\n",
        "      else:\n",
        "        while newIndx > 32:\n",
        "          newIndx -= 33\n",
        "        newMessage += alph[newIndx]\n",
        "    if x == ' ':\n",
        "      newMessage += ' '\n",
        "  return newMessage\n",
        "def decryption(message, shift):\n",
        "  newMessage = ''\n",
        "  for x in message:\n",
        "    if x != ' ':\n",
        "      newIndx = alph.index(x) - shift\n",
        "      if newIndx > 33:\n",
        "        newMessage += alph[newIndx]\n",
        "      else:\n",
        "        while newIndx < 0:\n",
        "          newIndx += 33\n",
        "        newMessage += alph[newIndx]\n",
        "    if x == ' ':\n",
        "      newMessage += ' '\n",
        "  return newMessage\n",
        "\n",
        "alph = 'абвгдеёжзийклмнопрстуфхцчшщъыьэюя'\n",
        "message = input('Введите сообщение:')\n",
        "shift = int(input('Введите сдвиг:'))\n",
        "\n",
        "print(encryption(message,shift))\n",
        "print(decryption(encryption(message,shift),shift))\n"
      ],
      "metadata": {
        "id": "anThYirsQe6N",
        "colab": {
          "base_uri": "https://localhost:8080/",
          "height": 375
        },
        "outputId": "ec1dd114-ac32-4a99-e7f8-3ec6f057d4df"
      },
      "execution_count": null,
      "outputs": [
        {
          "output_type": "error",
          "ename": "KeyboardInterrupt",
          "evalue": "Interrupted by user",
          "traceback": [
            "\u001b[0;31m---------------------------------------------------------------------------\u001b[0m",
            "\u001b[0;31mKeyboardInterrupt\u001b[0m                         Traceback (most recent call last)",
            "\u001b[0;32m<ipython-input-21-a42935b548d6>\u001b[0m in \u001b[0;36m<cell line: 31>\u001b[0;34m()\u001b[0m\n\u001b[1;32m     29\u001b[0m \u001b[0;34m\u001b[0m\u001b[0m\n\u001b[1;32m     30\u001b[0m \u001b[0malph\u001b[0m \u001b[0;34m=\u001b[0m \u001b[0;34m'абвгдеёжзийклмнопрстуфхцчшщъыьэюя'\u001b[0m\u001b[0;34m\u001b[0m\u001b[0;34m\u001b[0m\u001b[0m\n\u001b[0;32m---> 31\u001b[0;31m \u001b[0mmessage\u001b[0m \u001b[0;34m=\u001b[0m \u001b[0minput\u001b[0m\u001b[0;34m(\u001b[0m\u001b[0;34m'Введите сообщение:'\u001b[0m\u001b[0;34m)\u001b[0m\u001b[0;34m\u001b[0m\u001b[0;34m\u001b[0m\u001b[0m\n\u001b[0m\u001b[1;32m     32\u001b[0m \u001b[0mshift\u001b[0m \u001b[0;34m=\u001b[0m \u001b[0mint\u001b[0m\u001b[0;34m(\u001b[0m\u001b[0minput\u001b[0m\u001b[0;34m(\u001b[0m\u001b[0;34m'Введите сдвиг:'\u001b[0m\u001b[0;34m)\u001b[0m\u001b[0;34m)\u001b[0m\u001b[0;34m\u001b[0m\u001b[0;34m\u001b[0m\u001b[0m\n\u001b[1;32m     33\u001b[0m \u001b[0;34m\u001b[0m\u001b[0m\n",
            "\u001b[0;32m/usr/local/lib/python3.10/dist-packages/ipykernel/kernelbase.py\u001b[0m in \u001b[0;36mraw_input\u001b[0;34m(self, prompt)\u001b[0m\n\u001b[1;32m    849\u001b[0m                 \u001b[0;34m\"raw_input was called, but this frontend does not support input requests.\"\u001b[0m\u001b[0;34m\u001b[0m\u001b[0;34m\u001b[0m\u001b[0m\n\u001b[1;32m    850\u001b[0m             )\n\u001b[0;32m--> 851\u001b[0;31m         return self._input_request(str(prompt),\n\u001b[0m\u001b[1;32m    852\u001b[0m             \u001b[0mself\u001b[0m\u001b[0;34m.\u001b[0m\u001b[0m_parent_ident\u001b[0m\u001b[0;34m,\u001b[0m\u001b[0;34m\u001b[0m\u001b[0;34m\u001b[0m\u001b[0m\n\u001b[1;32m    853\u001b[0m             \u001b[0mself\u001b[0m\u001b[0;34m.\u001b[0m\u001b[0m_parent_header\u001b[0m\u001b[0;34m,\u001b[0m\u001b[0;34m\u001b[0m\u001b[0;34m\u001b[0m\u001b[0m\n",
            "\u001b[0;32m/usr/local/lib/python3.10/dist-packages/ipykernel/kernelbase.py\u001b[0m in \u001b[0;36m_input_request\u001b[0;34m(self, prompt, ident, parent, password)\u001b[0m\n\u001b[1;32m    893\u001b[0m             \u001b[0;32mexcept\u001b[0m \u001b[0mKeyboardInterrupt\u001b[0m\u001b[0;34m:\u001b[0m\u001b[0;34m\u001b[0m\u001b[0;34m\u001b[0m\u001b[0m\n\u001b[1;32m    894\u001b[0m                 \u001b[0;31m# re-raise KeyboardInterrupt, to truncate traceback\u001b[0m\u001b[0;34m\u001b[0m\u001b[0;34m\u001b[0m\u001b[0m\n\u001b[0;32m--> 895\u001b[0;31m                 \u001b[0;32mraise\u001b[0m \u001b[0mKeyboardInterrupt\u001b[0m\u001b[0;34m(\u001b[0m\u001b[0;34m\"Interrupted by user\"\u001b[0m\u001b[0;34m)\u001b[0m \u001b[0;32mfrom\u001b[0m \u001b[0;32mNone\u001b[0m\u001b[0;34m\u001b[0m\u001b[0;34m\u001b[0m\u001b[0m\n\u001b[0m\u001b[1;32m    896\u001b[0m             \u001b[0;32mexcept\u001b[0m \u001b[0mException\u001b[0m \u001b[0;32mas\u001b[0m \u001b[0me\u001b[0m\u001b[0;34m:\u001b[0m\u001b[0;34m\u001b[0m\u001b[0;34m\u001b[0m\u001b[0m\n\u001b[1;32m    897\u001b[0m                 \u001b[0mself\u001b[0m\u001b[0;34m.\u001b[0m\u001b[0mlog\u001b[0m\u001b[0;34m.\u001b[0m\u001b[0mwarning\u001b[0m\u001b[0;34m(\u001b[0m\u001b[0;34m\"Invalid Message:\"\u001b[0m\u001b[0;34m,\u001b[0m \u001b[0mexc_info\u001b[0m\u001b[0;34m=\u001b[0m\u001b[0;32mTrue\u001b[0m\u001b[0;34m)\u001b[0m\u001b[0;34m\u001b[0m\u001b[0;34m\u001b[0m\u001b[0m\n",
            "\u001b[0;31mKeyboardInterrupt\u001b[0m: Interrupted by user"
          ]
        }
      ]
    },
    {
      "cell_type": "markdown",
      "source": [
        "**Задача 6**\n",
        "\n",
        "Задача: «Банковская система»\n",
        "\n",
        "Создайте программу Python, которая имитирует базовую банковскую систему. Система должна иметь следующие функции:\n",
        "\n",
        "Требования\n",
        "*   Система должна позволять клиентам создавать счета и хранить их балансы.\n",
        "*   Система должна позволять клиентам вносить и снимать деньги со своих счетов.\n",
        "*   Система должна позволять клиентам проверять свой текущий баланс.\n",
        "*   Система должна позволять клиентам переводить деньги между счетами.\n",
        "*   Система должна отслеживать транзакции (депозиты, снятия и переводы) и иметь возможность печатать детали транзакций.\n",
        "\n",
        "\n",
        "Задачи\n",
        "1. Реализуйте банковскую систему, используя только базовые конструкции Python, такие как def, lists, if, elif и else, без классов или словарей.\n",
        "Определите функции для создания счетов, внесения и снятия денег, получения балансов счетов, перевода денег между счетами, а также создания и печати транзакций.\n",
        "2. Напишите основную функцию, которая демонстрирует использование банковской системы путем создания счетов, внесения и снятия денег и перевода денег между счетами.\n",
        "3. Бонусное задание\n",
        "Реализуйте способ хранения и печати истории транзакций для каждого счета.\n",
        "\n",
        "Ограничения\n",
        "Не используйте классы или словари.\n",
        "Используйте только базовые конструкции Python, такие как def, lists, if, elif и else.\n"
      ],
      "metadata": {
        "id": "avFZRRXrQz9O"
      }
    },
    {
      "cell_type": "code",
      "source": [
        "def create():\n",
        "  name = input('Введите ваше имя:')\n",
        "  accounts.append([name,0,[]])\n",
        "def deposit():\n",
        "  name = input('Введите имя: ')\n",
        "  count = int(input('Введите сумму пополнения: '))\n",
        "  for x in accounts:\n",
        "    if x[0] == name:\n",
        "      x[1] += count\n",
        "      x[2].append(f'Пополнение на сумму {count}')\n",
        "      return 1\n",
        "  return 0\n",
        "def withdraw():\n",
        "  name = input('Введите имя: ')\n",
        "\n",
        "  count = int(input('Введите сумму снятия: '))\n",
        "  for x in accounts:\n",
        "    if x[0] == name:\n",
        "      if x[1] - count >= 0:\n",
        "        x[1] -= count\n",
        "        x[2].append(f'Снятие на сумму {count}')\n",
        "        return 1\n",
        "      else:\n",
        "        return 2\n",
        "  return 0\n",
        "def display():\n",
        "  name = input('Введите имя: ')\n",
        "  for x in accounts:\n",
        "    if x[0] == name:\n",
        "      print('\\n \\n Ваш баланс:', x[1], '\\n \\n')\n",
        "      break\n",
        "def transfer():\n",
        "  nameFrom = input('Введите имя счёта с которого хотите перевести: ')\n",
        "  nameTo =  input('Введите имя счёта на который хотите перевести: ')\n",
        "  count = int(input('Введите сумму перевода: '))\n",
        "  for x in accounts:\n",
        "    if x[0] == nameFrom:\n",
        "      x[2].append(f'Перевод на сумму {count} на счёт с именем {nameTo}')\n",
        "      if x[1] - count >= 0:\n",
        "        x[1] -= count\n",
        "      else:\n",
        "        return 2\n",
        "  for x in accounts:\n",
        "    if x[0] == nameTo:\n",
        "      x[2].append(f'Перевод от {nameFrom}, на сумму {count}')\n",
        "      x[1] += count\n",
        "      return 1\n",
        "  return 0\n",
        "def displayTransactionsHistory():\n",
        "  name = input('Введите имя: ')\n",
        "  for x in accounts:\n",
        "    if x[0] == name:\n",
        "      print(x[2])\n",
        "      return 1\n",
        "  return 0\n",
        "\n",
        "accounts = []\n",
        "print('Вас приветствует банковская система, что будем делать?')\n",
        "while True:\n",
        "  print('\\n 1 -> Создать счёт \\n 2 -> Пополнить счёт \\n 3 -> Снять деньги со счёта \\n 4 -> Посмотреть баланс на счёте \\n 5 -> Перевести \\n 6 -> Посмотреть историю транзакций \\n 7 -> Выход')\n",
        "  num = input()\n",
        "  if num == '1':\n",
        "    create()\n",
        "    print('\\n \\n Счет создан! \\n \\n')\n",
        "  if num == '2':\n",
        "    if deposit() == 0:\n",
        "      print('\\n \\n Вы ввели неверное имя \\n \\n')\n",
        "    else:\n",
        "      print('\\n \\n Счёт успешно пополнен \\n \\n')\n",
        "  if num == '3':\n",
        "    res = withdraw()\n",
        "    if res == 0:\n",
        "      print('\\n \\n Вы ввели неверное имя \\n \\n')\n",
        "    elif res == 2:\n",
        "      print('\\n \\n Недостаточно средств \\n \\n')\n",
        "    else:\n",
        "      print('\\n \\n Средства сняты \\n \\n')\n",
        "  if num == '4':\n",
        "    display()\n",
        "  if num == '5':\n",
        "    res = transfer()\n",
        "    if res == 0:\n",
        "      print('\\n \\n Вы ввели неверное имя \\n \\n')\n",
        "    elif res == 2:\n",
        "      print('\\n \\n Недостаточно средств \\n \\n')\n",
        "    elif res == 1:\n",
        "      print('\\n \\n Перевод успешен \\n \\n')\n",
        "  if num == '6':\n",
        "    res = displayTransactionsHistory()\n",
        "    if res == 0:\n",
        "      print('\\n \\n Вы ввели неверное имя \\n \\n')\n",
        "    if res == 1:\n",
        "\n",
        "      print('\\n \\n История транзакций успешно выведена \\n \\n')\n",
        "  if num == '7':\n",
        "    break"
      ],
      "metadata": {
        "colab": {
          "base_uri": "https://localhost:8080/"
        },
        "id": "dWEW10zIRwjs",
        "outputId": "23c73ac6-eece-4f04-c7fa-1e85e1137dd2"
      },
      "execution_count": null,
      "outputs": [
        {
          "name": "stdout",
          "output_type": "stream",
          "text": [
            "Вас приветствует банковская система, что будем делать?\n",
            "\n",
            " 1 -> Создать счёт \n",
            " 2 -> Пополнить счёт \n",
            " 3 -> Снять деньги со счёта \n",
            " 4 -> Посмотреть баланс на счёте \n",
            " 5 -> Перевести \n",
            " 6 -> Посмотреть историю транзакций \n",
            " 7 -> Выход\n",
            "1\n",
            "Введите ваше имя:ъууууууууу\n",
            "\n",
            " \n",
            " Счет создан! \n",
            " \n",
            "\n",
            "\n",
            " 1 -> Создать счёт \n",
            " 2 -> Пополнить счёт \n",
            " 3 -> Снять деньги со счёта \n",
            " 4 -> Посмотреть баланс на счёте \n",
            " 5 -> Перевести \n",
            " 6 -> Посмотреть историю транзакций \n",
            " 7 -> Выход\n",
            "7\n"
          ]
        }
      ]
    }
  ]
}