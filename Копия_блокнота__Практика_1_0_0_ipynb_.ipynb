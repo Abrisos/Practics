{
  "nbformat": 4,
  "nbformat_minor": 0,
  "metadata": {
    "colab": {
      "provenance": []
    },
    "kernelspec": {
      "name": "python3",
      "display_name": "Python 3"
    },
    "language_info": {
      "name": "python"
    }
  },
  "cells": [
    {
      "cell_type": "markdown",
      "source": [
        "ФИО: Петрик Артём Александрович ( зачтено 19 11 2024, +1 Балл за доп задание)"
      ],
      "metadata": {
        "id": "fLDS5f_mCnPa"
      }
    },
    {
      "cell_type": "markdown",
      "source": [
        "# Задание (совместное с преподавателем)\n",
        "\n",
        "\n"
      ],
      "metadata": {
        "id": "-CSHUbWzCqeM"
      }
    },
    {
      "cell_type": "markdown",
      "source": [
        "Напишите систему для учёта отпусков с возможностью узнавать, сколько дней отпуска осталось у того или иного сотрудника.\n",
        "Для этого создайте класс Employee со следующими методами:\n",
        "\n",
        "- Метод consume_vacation должен отвечать за списание дней отпуска.\n",
        "\n",
        "Единственный параметр этого метода (кроме self) — количество потраченных отпускных дней (целое число).\n",
        "\n",
        "При вызове метода consume_vacation соответствующее количество дней должно вычитаться из общего числа доступных отпускных дней сотрудника.\n",
        "\n",
        "Чтобы определить число доступных отпускных дней конкретного сотрудника, в классе опишите атрибут экземпляра remaining_vacation_days, который по умолчанию будет равен значению атрибута класса vacation_days, и используйте этот атрибут в работе метода.\n",
        "\n",
        "- Метод get_vacation_details должен возвращать остаток отпускных дней сотрудника в формате: ```Остаток отпускных дней: <число>.```\n",
        "\n",
        "\n",
        "Чтобы проверить работу программы:\n",
        "1. Создайте экземпляр класса Employee.\n",
        "2. Вызовите метод consume_vacation, указав подходящее значение аргумента, например 7.\n",
        "3. Вызовите метод get_vacation_details."
      ],
      "metadata": {
        "id": "a_flBjZOCwYz"
      }
    },
    {
      "cell_type": "code",
      "source": [
        "class Employee:\n",
        "    vacation_days = 28\n",
        "\n",
        "    def __init__(self, first_name, second_name, gender):\n",
        "        self.first_name = first_name\n",
        "        self.second_name = second_name\n",
        "        self.gender = gender\n",
        "        self.remaining_vacation_days = self.vacation_days\n",
        "\n",
        "    def consume_vacation(self, days):\n",
        "        self.remaining_vacation_days -= days\n",
        "\n",
        "    def get_vacation_details(self):\n",
        "        return f'Остаток отпускных дней: {self.remaining_vacation_days}'\n"
      ],
      "metadata": {
        "id": "G4bUraN4CwBI"
      },
      "execution_count": null,
      "outputs": []
    },
    {
      "cell_type": "code",
      "source": [
        "employee = Employee('Олег', 'Отчисленный', 'Мужчина')\n",
        "employee.consume_vacation(7)\n",
        "print(employee.get_vacation_details())"
      ],
      "metadata": {
        "colab": {
          "base_uri": "https://localhost:8080/"
        },
        "id": "Ck-cjYPI6Mi0",
        "outputId": "7c0e1d07-4cb3-419d-f337-7726a814bc3d"
      },
      "execution_count": null,
      "outputs": [
        {
          "output_type": "stream",
          "name": "stdout",
          "text": [
            "Остаток отпускных дней: 21\n"
          ]
        }
      ]
    },
    {
      "cell_type": "markdown",
      "source": [
        "# Задание 1"
      ],
      "metadata": {
        "id": "8XGka5GtEBK1"
      }
    },
    {
      "cell_type": "markdown",
      "source": [
        "Задание:\n",
        "\n",
        "Создайте класс с именем Rectangle который имеет:\n",
        "- Атрибуты ширины и высоты.\n",
        "- Метод расчета площади.\n",
        "- Метод расчета периметра.\n",
        "- Метод отображения размеров прямоугольника.\n",
        "\n",
        "Создайте экземпляр класса Rectangleи продемонстрируйте его функциональность."
      ],
      "metadata": {
        "id": "jQ4qqd8nEZBY"
      }
    },
    {
      "cell_type": "code",
      "source": [
        "class Rectangle:\n",
        "\n",
        "    def __init__(self, width, height):\n",
        "        self.width = width\n",
        "        self.height = height\n",
        "\n",
        "    def calculate_square(self):\n",
        "        return self.width * self.height\n",
        "\n",
        "    def calculate_perimeter(self):\n",
        "        return ((self.width + self.height) * 2)\n",
        "\n",
        "    def get_rectangle_size(self):\n",
        "      return (f'Площадь равна: {self.calculate_square()}\\n'\n",
        "      f'Периметр равен: {self.calculate_perimeter()}')\n"
      ],
      "metadata": {
        "id": "dG6uNPqTEAvt"
      },
      "execution_count": null,
      "outputs": []
    },
    {
      "cell_type": "code",
      "source": [
        "rectangle = Rectangle(int(input('Введите ширину:')),\n",
        "                      int(input('Введите высоту:')))\n",
        "print(rectangle.get_rectangle_size())\n"
      ],
      "metadata": {
        "colab": {
          "base_uri": "https://localhost:8080/"
        },
        "id": "1kUg1p829X5c",
        "outputId": "e1b43297-65a7-4edd-f0bf-4d539874a26c"
      },
      "execution_count": null,
      "outputs": [
        {
          "output_type": "stream",
          "name": "stdout",
          "text": [
            "Введите ширину:10\n",
            "Введите высоту:10\n",
            "Площадь равна: 100\n",
            "Периметр равен: 40\n"
          ]
        }
      ]
    },
    {
      "cell_type": "markdown",
      "source": [
        "# Задание 2"
      ],
      "metadata": {
        "id": "0ct1u6lqE73j"
      }
    },
    {
      "cell_type": "markdown",
      "source": [
        "Задание: Создайте мини версию банковской системы:\n",
        "\n",
        "\n",
        "Инструкции:\n",
        "\n",
        "1. Создайте класс BankAccountсо следующими атрибутами:\n",
        "    - account_holder -  владелец счета\n",
        "    - balance - баланс счета\n",
        "\n",
        "2. Реализуйте следующие методы:\n",
        "    - Метод для инициализации владельца счета: имя владельца счета и установите начальный баланс на 0.\n",
        "    - deposit(amount): Добавьте указанную сумму к балансу.\n",
        "    - withdraw(amount): Вычесть указанную сумму из баланса, если средств достаточно; в противном случае вывести предупреждение.\n",
        "    - get_balance(): Возврат текущего баланса.\n",
        "\n",
        "\n",
        "Создайте объект класса и продемонстрируйте его возможности"
      ],
      "metadata": {
        "id": "FOpIpcLxE-WK"
      }
    },
    {
      "cell_type": "code",
      "source": [
        "class BankAccount:\n",
        "    balance = 0\n",
        "\n",
        "    def __init__(self, account_holder):\n",
        "        self.account_holder = account_holder\n",
        "\n",
        "    def deposit(self, amount):\n",
        "        self.balance += amount\n",
        "\n",
        "    def withdraw(self, amount):\n",
        "        if self.balance - amount <= 0:\n",
        "            print('Недостаточно средств')\n",
        "        else:\n",
        "          self.balance -= amount\n",
        "\n",
        "    def get_balance(self):\n",
        "        return self.balance\n"
      ],
      "metadata": {
        "id": "WWXNIUrCE99W"
      },
      "execution_count": null,
      "outputs": []
    },
    {
      "cell_type": "code",
      "source": [
        "bankAccount = BankAccount('Олег')\n",
        "bankAccount.deposit(1000)\n",
        "print(bankAccount.get_balance())\n",
        "bankAccount.withdraw(500)\n",
        "print(bankAccount.get_balance())"
      ],
      "metadata": {
        "colab": {
          "base_uri": "https://localhost:8080/"
        },
        "id": "T8OPQxpJ_6fi",
        "outputId": "bf1e4044-ef2b-4f80-b46d-23053182f3ec"
      },
      "execution_count": null,
      "outputs": [
        {
          "output_type": "stream",
          "name": "stdout",
          "text": [
            "1000\n",
            "500\n"
          ]
        }
      ]
    },
    {
      "cell_type": "markdown",
      "source": [
        "# Задание 3"
      ],
      "metadata": {
        "id": "C5DX5Uf2FfP6"
      }
    },
    {
      "cell_type": "markdown",
      "source": [
        "Возьмите код и задание (Рыцарь и дракон) из предыдущей практики и реализуйте его с применением классов"
      ],
      "metadata": {
        "id": "0cR-MYepFgz6"
      }
    },
    {
      "cell_type": "code",
      "source": [
        "class Knight:\n",
        "    health = randint(50,100)\n",
        "    damage = randint(10,20)\n",
        "\n",
        "    def __init__(self, name, armor, weapon):\n",
        "        self.name = name\n",
        "        self.armor = armor\n",
        "        self.weapon = weapon\n",
        "\n",
        "    def get_hit(self):\n",
        "        hit = self.damage + randint(-3, 3)\n",
        "        input('Нажмите ENTER чтобы ударить!')\n",
        "        print(f'Вы нанесли {hit} урона!')\n",
        "        return hit\n"
      ],
      "metadata": {
        "id": "hy5Ov5_4Al-a"
      },
      "execution_count": null,
      "outputs": []
    },
    {
      "cell_type": "code",
      "source": [
        "class Dragon:\n",
        "    health = randint(50,100)\n",
        "    damage = randint(10,20)\n",
        "\n",
        "    def __init__(self, name):\n",
        "      self.name = name\n",
        "\n",
        "    def get_hit(self):\n",
        "      hit = self.damage + randint(-4, 4)\n",
        "      print(f'Дракон нанес вам {hit} урона!')\n",
        "      return hit\n"
      ],
      "metadata": {
        "id": "M0awW6mFCEpj"
      },
      "execution_count": null,
      "outputs": []
    },
    {
      "cell_type": "code",
      "source": [
        "from random import randint\n",
        "\n",
        "\n",
        "def start():\n",
        "  print('Перед вами 3 двери, в какую пойдем?')\n",
        "  door_num = int(input('\\n1 -> Левая\\n2 -> Средняя\\n3 -> Правая\\n'))\n",
        "  if door_num == 1:\n",
        "    if room_visiting[0] != 1:\n",
        "      room_left()\n",
        "    else:\n",
        "      print('Вы уже там были')\n",
        "      start()\n",
        "  if door_num == 2:\n",
        "    room_center()\n",
        "  if door_num == 3:\n",
        "    if room_visiting[1] != 1:\n",
        "      room_right()\n",
        "    else:\n",
        "      print('Вы уже там были')\n",
        "      start()\n",
        "\n",
        "\n",
        "def room_left():\n",
        "  print('Вы заходите в левую дверь и видите кота')\n",
        "  move_num = int(input('1 -> Подойти к нему\\n2 -> Уйти\\n'))\n",
        "  if move_num == 1:\n",
        "    if randint(1,2) == 1:\n",
        "      bonus_damage = randint(3,5)\n",
        "      print(f'Кот дал вам дополнительные {bonus_damage} урона')\n",
        "      knight.damage += bonus_damage\n",
        "    else:\n",
        "      forfeit_damage = randint(3,5)\n",
        "      print(f'Кот забрал у вас {forfeit_damage} урона')\n",
        "      knight.damage -= forfeit_damage\n",
        "    room_visiting[0] += 1\n",
        "  start()\n",
        "\n",
        "\n",
        "def room_right():\n",
        "  print('Вы заходите в левую дверь и видите собаку')\n",
        "  move_num = int(input('1 -> Подойти к ней\\n2 -> Уйти\\n'))\n",
        "  if move_num == 1:\n",
        "    if randint(1, 2) == 1:\n",
        "      bonus_health = randint(10, 20)\n",
        "      print(f'Собака дала вам {bonus_health} здоровья')\n",
        "      knight.health += bonus_health\n",
        "    else:\n",
        "      forfeit_health = randint(10, 20)\n",
        "      print(f'Собака забрала у вас {forfeit_health} здоровья')\n",
        "      knight.health -= forfeit_health\n",
        "    room_visiting[1] += 1\n",
        "  start()\n",
        "\n",
        "\n",
        "def room_center():\n",
        "  print(f'Вы заходите в дверь и видите дракона по имени {dragon.name}!')\n",
        "  print(f'Он говорит: Ого {knight.name} у тебя что {knight.armor} броня '\n",
        "        f'еще и {knight.weapon}')\n",
        "  print(f'Вы кричите ему: Давай сразимся {dragon.name}!')\n",
        "\n",
        "  while True:\n",
        "    dragon.health -= knight.get_hit()\n",
        "    if dragon.health <= 0:\n",
        "      print(f'Вы победили!\\nУ вас осталось {knight.health} здоровья!')\n",
        "      break\n",
        "    print(f'У дракона осталось {dragon.health} здоровья!\\n')\n",
        "\n",
        "    knight.health -= dragon.get_hit()\n",
        "    if knight.health <= 0:\n",
        "      print(f'Вы проиграли!\\nУ дракона осталось {dragon.health} здоровья!')\n",
        "      break\n",
        "    print(f'У вас осталось {knight.health} здоровья!\\n')\n",
        "\n",
        "\n",
        "room_visiting = [0,0] # Посещения левой и правой комнаты\n",
        "knight = Knight(input('Введите имя персонажа: '),\n",
        "                input('Введите информацию о броне персонажа: '),\n",
        "                input('Введите информацию о оружии персонажа: '),\n",
        ")\n",
        "dragon = Dragon(input('Введите имя дракона: '))\n",
        "print('Игра рыцарь и дракон')\n",
        "start()\n"
      ],
      "metadata": {
        "id": "Oz9BZbhAFwua",
        "colab": {
          "base_uri": "https://localhost:8080/",
          "height": 356
        },
        "outputId": "330d3c5d-9997-4363-9798-1bc08c83a525"
      },
      "execution_count": null,
      "outputs": [
        {
          "output_type": "error",
          "ename": "KeyboardInterrupt",
          "evalue": "Interrupted by user",
          "traceback": [
            "\u001b[0;31m---------------------------------------------------------------------------\u001b[0m",
            "\u001b[0;31mKeyboardInterrupt\u001b[0m                         Traceback (most recent call last)",
            "\u001b[0;32m<ipython-input-44-6d5f306cf5a5>\u001b[0m in \u001b[0;36m<cell line: 76>\u001b[0;34m()\u001b[0m\n\u001b[1;32m     74\u001b[0m \u001b[0;34m\u001b[0m\u001b[0m\n\u001b[1;32m     75\u001b[0m \u001b[0mroom_visiting\u001b[0m \u001b[0;34m=\u001b[0m \u001b[0;34m[\u001b[0m\u001b[0;36m0\u001b[0m\u001b[0;34m,\u001b[0m\u001b[0;36m0\u001b[0m\u001b[0;34m]\u001b[0m \u001b[0;31m# Посещения левой и правой комнаты\u001b[0m\u001b[0;34m\u001b[0m\u001b[0;34m\u001b[0m\u001b[0m\n\u001b[0;32m---> 76\u001b[0;31m knight = Knight(input('Введите имя персонажа: '),\n\u001b[0m\u001b[1;32m     77\u001b[0m                 \u001b[0minput\u001b[0m\u001b[0;34m(\u001b[0m\u001b[0;34m'Введите информацию о броне персонажа: '\u001b[0m\u001b[0;34m)\u001b[0m\u001b[0;34m,\u001b[0m\u001b[0;34m\u001b[0m\u001b[0;34m\u001b[0m\u001b[0m\n\u001b[1;32m     78\u001b[0m                 \u001b[0minput\u001b[0m\u001b[0;34m(\u001b[0m\u001b[0;34m'Введите информацию о оружии персонажа: '\u001b[0m\u001b[0;34m)\u001b[0m\u001b[0;34m,\u001b[0m\u001b[0;34m\u001b[0m\u001b[0;34m\u001b[0m\u001b[0m\n",
            "\u001b[0;32m/usr/local/lib/python3.10/dist-packages/ipykernel/kernelbase.py\u001b[0m in \u001b[0;36mraw_input\u001b[0;34m(self, prompt)\u001b[0m\n\u001b[1;32m    849\u001b[0m                 \u001b[0;34m\"raw_input was called, but this frontend does not support input requests.\"\u001b[0m\u001b[0;34m\u001b[0m\u001b[0;34m\u001b[0m\u001b[0m\n\u001b[1;32m    850\u001b[0m             )\n\u001b[0;32m--> 851\u001b[0;31m         return self._input_request(str(prompt),\n\u001b[0m\u001b[1;32m    852\u001b[0m             \u001b[0mself\u001b[0m\u001b[0;34m.\u001b[0m\u001b[0m_parent_ident\u001b[0m\u001b[0;34m,\u001b[0m\u001b[0;34m\u001b[0m\u001b[0;34m\u001b[0m\u001b[0m\n\u001b[1;32m    853\u001b[0m             \u001b[0mself\u001b[0m\u001b[0;34m.\u001b[0m\u001b[0m_parent_header\u001b[0m\u001b[0;34m,\u001b[0m\u001b[0;34m\u001b[0m\u001b[0;34m\u001b[0m\u001b[0m\n",
            "\u001b[0;32m/usr/local/lib/python3.10/dist-packages/ipykernel/kernelbase.py\u001b[0m in \u001b[0;36m_input_request\u001b[0;34m(self, prompt, ident, parent, password)\u001b[0m\n\u001b[1;32m    893\u001b[0m             \u001b[0;32mexcept\u001b[0m \u001b[0mKeyboardInterrupt\u001b[0m\u001b[0;34m:\u001b[0m\u001b[0;34m\u001b[0m\u001b[0;34m\u001b[0m\u001b[0m\n\u001b[1;32m    894\u001b[0m                 \u001b[0;31m# re-raise KeyboardInterrupt, to truncate traceback\u001b[0m\u001b[0;34m\u001b[0m\u001b[0;34m\u001b[0m\u001b[0m\n\u001b[0;32m--> 895\u001b[0;31m                 \u001b[0;32mraise\u001b[0m \u001b[0mKeyboardInterrupt\u001b[0m\u001b[0;34m(\u001b[0m\u001b[0;34m\"Interrupted by user\"\u001b[0m\u001b[0;34m)\u001b[0m \u001b[0;32mfrom\u001b[0m \u001b[0;32mNone\u001b[0m\u001b[0;34m\u001b[0m\u001b[0;34m\u001b[0m\u001b[0m\n\u001b[0m\u001b[1;32m    896\u001b[0m             \u001b[0;32mexcept\u001b[0m \u001b[0mException\u001b[0m \u001b[0;32mas\u001b[0m \u001b[0me\u001b[0m\u001b[0;34m:\u001b[0m\u001b[0;34m\u001b[0m\u001b[0;34m\u001b[0m\u001b[0m\n\u001b[1;32m    897\u001b[0m                 \u001b[0mself\u001b[0m\u001b[0;34m.\u001b[0m\u001b[0mlog\u001b[0m\u001b[0;34m.\u001b[0m\u001b[0mwarning\u001b[0m\u001b[0;34m(\u001b[0m\u001b[0;34m\"Invalid Message:\"\u001b[0m\u001b[0;34m,\u001b[0m \u001b[0mexc_info\u001b[0m\u001b[0;34m=\u001b[0m\u001b[0;32mTrue\u001b[0m\u001b[0;34m)\u001b[0m\u001b[0;34m\u001b[0m\u001b[0;34m\u001b[0m\u001b[0m\n",
            "\u001b[0;31mKeyboardInterrupt\u001b[0m: Interrupted by user"
          ]
        }
      ]
    },
    {
      "cell_type": "markdown",
      "source": [
        "# Дополнительное задание\n"
      ],
      "metadata": {
        "id": "b_mJHXcQGI9t"
      }
    },
    {
      "cell_type": "markdown",
      "source": [
        "Задача: Система управления библиотекой\n",
        "\n",
        "**Цель**\n",
        "Создайте простую систему управления библиотекой, которая позволит пользователям добавлять книги, брать книги, возвращать книги и просматривать список доступных книг.\n",
        "\n",
        "**Требования**\n",
        "\n",
        "1. **Определение класса**:\n",
        "   – Создайте класс с именем «Book» со следующими атрибутами:\n",
        "     - `title`\n",
        "     - `автор`\n",
        "     - `isbn`\n",
        "     - `is_borrowed` (по умолчанию `False`)\n",
        "\n",
        "2. **Класс библиотеки**:\n",
        "   - Создайте класс с именем Library, который управляет коллекцией книг.\n",
        "   - Класс должен иметь следующие методы:\n",
        "     - `__init__(self)`: инициализирует пустой список книг.\n",
        "     - `add_book(self, book: Book)`: добавляет новую книгу в библиотеку.\n",
        "     - `borrow_book(self, isbn: str)`: помечает книгу как заимствованную. Если книга не найдена или уже взята, выведите соответствующее сообщение.\n",
        "     - `return_book(self, isbn: str)`: помечает книгу как возвращенную. Если книга не найдена или не была взята взаймы, выведите соответствующее сообщение.\n",
        "     - `list_available_books(self)`: печатает список всех доступных книг в библиотеке.\n",
        "     - `find_book(self, isbn: str)`: возвращает объект книги, если он найден, в противном случае возвращает `None`.\n",
        "\n",
        "3. **Взаимодействие с пользователем**:\n",
        "   - Создайте простое текстовое меню, которое позволит пользователям:\n",
        "     - Добавить книгу\n",
        "     - Одолжить книгу\n",
        "     - Вернуть книгу\n",
        "     - Список доступных книг\n",
        "     - Выйти из программы"
      ],
      "metadata": {
        "id": "pnIUdFPcGOVL"
      }
    },
    {
      "cell_type": "code",
      "source": [
        "class Book:\n",
        "    is_borrowed = False\n",
        "\n",
        "    def __init__(self, title, author, isbn: str):\n",
        "      self.title = title\n",
        "      self.author = author\n",
        "      self.isbn = isbn"
      ],
      "metadata": {
        "id": "GKKmdfN8GL6f"
      },
      "execution_count": null,
      "outputs": []
    },
    {
      "cell_type": "code",
      "source": [
        "class Library:\n",
        "    def __init__(self, book_list):\n",
        "        self.book_list = book_list\n",
        "\n",
        "    def add_book(self, book: Book):\n",
        "        self.book_list.append(book)\n",
        "\n",
        "    def borrow_book(self, isbn: str):\n",
        "        if self.find_book(isbn) is not None:\n",
        "          if self.find_book(isbn).is_borrowed == False:\n",
        "              self.find_book(isbn).is_borrowed = True\n",
        "              print('Успешно')\n",
        "              return 1\n",
        "          else:\n",
        "              print('Книга уже взята')\n",
        "              return 2\n",
        "        else:\n",
        "          print('Книга не найдена')\n",
        "\n",
        "    def return_book(self, isbn: str):\n",
        "        if self.find_book(isbn) is not None:\n",
        "          if self.find_book(isbn).is_borrowed == True:\n",
        "              self.find_book(isbn).is_borrowed = False\n",
        "              print('Успешно')\n",
        "              return 1\n",
        "          else:\n",
        "              print('Книга не взята')\n",
        "              return 2\n",
        "        else:\n",
        "          print('Книга не найдена')\n",
        "\n",
        "    def list_available_books(self):\n",
        "        for book in self.book_list:\n",
        "          if not book.is_borrowed:\n",
        "            print(book.title)\n",
        "\n",
        "    def find_book(self, isbn: str):\n",
        "        for book in self.book_list:\n",
        "          if book.isbn == isbn:\n",
        "            return book\n",
        "        return None\n"
      ],
      "metadata": {
        "id": "kAOXHRU4HPy1"
      },
      "execution_count": null,
      "outputs": []
    },
    {
      "cell_type": "code",
      "source": [
        "def start():\n",
        "  print('Что будем делать?'\n",
        "        '\\n1 -> Добавить книгу'\n",
        "        '\\n2 -> Одолжить книгу'\n",
        "        '\\n3 -> Вернуть книгу'\n",
        "        '\\n4 -> Список доступных книг'\n",
        "        '\\n5 -> Выйти из программы')\n",
        "  num = int(input())\n",
        "  if num == 1:\n",
        "    book = Book(input('Введите название:'),\n",
        "                input('Введите автора:'),\n",
        "                input('Введите isbn:'))\n",
        "    library.add_book(book)\n",
        "  if num == 2:\n",
        "    library.borrow_book(input('Введите isbn:'))\n",
        "  if num == 3:\n",
        "    library.return_book(input('Введите isbn:'))\n",
        "  if num == 4:\n",
        "    library.list_available_books()\n",
        "  if num == 5:\n",
        "    return 1\n",
        "  start()\n",
        "\n",
        "\n",
        "library = Library([])\n",
        "start()"
      ],
      "metadata": {
        "colab": {
          "base_uri": "https://localhost:8080/"
        },
        "id": "OAGM2DU6KYHw",
        "outputId": "8fd83a67-7fcd-4e2a-975a-b45a619ff1e5"
      },
      "execution_count": null,
      "outputs": [
        {
          "name": "stdout",
          "output_type": "stream",
          "text": [
            "Что будем делать?\n",
            "1 -> Добавить книгу\n",
            "2 -> Одолжить книгу\n",
            "3 -> Вернуть книгу\n",
            "4 -> Список доступных книг\n",
            "5 -> Выйти из программы\n",
            "1\n",
            "Введите название:f\n",
            "Введите автора:d\n",
            "Введите isbn:1\n",
            "Что будем делать?\n",
            "1 -> Добавить книгу\n",
            "2 -> Одолжить книгу\n",
            "3 -> Вернуть книгу\n",
            "4 -> Список доступных книг\n",
            "5 -> Выйти из программы\n",
            "1\n",
            "Введите название:s\n",
            "Введите автора:o\n",
            "Введите isbn:2\n",
            "Что будем делать?\n",
            "1 -> Добавить книгу\n",
            "2 -> Одолжить книгу\n",
            "3 -> Вернуть книгу\n",
            "4 -> Список доступных книг\n",
            "5 -> Выйти из программы\n",
            "4\n",
            "f\n",
            "s\n",
            "Что будем делать?\n",
            "1 -> Добавить книгу\n",
            "2 -> Одолжить книгу\n",
            "3 -> Вернуть книгу\n",
            "4 -> Список доступных книг\n",
            "5 -> Выйти из программы\n",
            "2\n",
            "Введите isbn:2\n",
            "Успешно\n",
            "Что будем делать?\n",
            "1 -> Добавить книгу\n",
            "2 -> Одолжить книгу\n",
            "3 -> Вернуть книгу\n",
            "4 -> Список доступных книг\n",
            "5 -> Выйти из программы\n",
            "4\n",
            "f\n",
            "Что будем делать?\n",
            "1 -> Добавить книгу\n",
            "2 -> Одолжить книгу\n",
            "3 -> Вернуть книгу\n",
            "4 -> Список доступных книг\n",
            "5 -> Выйти из программы\n",
            "3\n",
            "Введите isbn:2\n",
            "Успешно\n",
            "Что будем делать?\n",
            "1 -> Добавить книгу\n",
            "2 -> Одолжить книгу\n",
            "3 -> Вернуть книгу\n",
            "4 -> Список доступных книг\n",
            "5 -> Выйти из программы\n",
            "4\n",
            "f\n",
            "s\n",
            "Что будем делать?\n",
            "1 -> Добавить книгу\n",
            "2 -> Одолжить книгу\n",
            "3 -> Вернуть книгу\n",
            "4 -> Список доступных книг\n",
            "5 -> Выйти из программы\n",
            "5\n"
          ]
        }
      ]
    }
  ]
}