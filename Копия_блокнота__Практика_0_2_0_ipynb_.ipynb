{
  "nbformat": 4,
  "nbformat_minor": 0,
  "metadata": {
    "colab": {
      "provenance": []
    },
    "kernelspec": {
      "name": "python3",
      "display_name": "Python 3"
    },
    "language_info": {
      "name": "python"
    }
  },
  "cells": [
    {
      "cell_type": "markdown",
      "source": [
        "Напишите свое ФИО:"
      ],
      "metadata": {
        "id": "0PnTh-ajEoEb"
      }
    },
    {
      "cell_type": "code",
      "source": [
        "Петрик Артём Александрович"
      ],
      "metadata": {
        "id": "QyMVPjzWErHw"
      },
      "execution_count": null,
      "outputs": []
    },
    {
      "cell_type": "markdown",
      "source": [
        "# Основы"
      ],
      "metadata": {
        "id": "HPwKiIA4EKO-"
      }
    },
    {
      "cell_type": "markdown",
      "source": [
        "Задание 1: Напиши программу, выводящую на экран сообщение \"Привет, мир!\""
      ],
      "metadata": {
        "id": "8po5IidFERZ8"
      }
    },
    {
      "cell_type": "code",
      "execution_count": null,
      "metadata": {
        "id": "sBRjlCVLEIQr",
        "colab": {
          "base_uri": "https://localhost:8080/"
        },
        "outputId": "f27fa3de-d6fa-4207-998b-db44a8dea863"
      },
      "outputs": [
        {
          "output_type": "stream",
          "name": "stdout",
          "text": [
            "Привет, мир!\n"
          ]
        }
      ],
      "source": [
        "print('Привет, мир!')"
      ]
    },
    {
      "cell_type": "markdown",
      "source": [
        "Задание 2: Напиши программу которая запрашивает имя пользователя и выводит сообщение:\n",
        "\n",
        "`Привет, <Имя пользователя>`"
      ],
      "metadata": {
        "id": "pUQIIo94EYLg"
      }
    },
    {
      "cell_type": "code",
      "source": [
        "name = input()\n",
        "print('Привет,', name)"
      ],
      "metadata": {
        "id": "nNwHKmAnEinH",
        "colab": {
          "base_uri": "https://localhost:8080/"
        },
        "outputId": "1bb57ba2-1b06-4aed-ee18-09336a445d7f"
      },
      "execution_count": null,
      "outputs": [
        {
          "output_type": "stream",
          "name": "stdout",
          "text": [
            "fsfdsf\n",
            "Привет, fsfdsf\n"
          ]
        }
      ]
    },
    {
      "cell_type": "markdown",
      "source": [
        "Задание 3: Напиши программу определяющую является ли число четным или нечетным:\n",
        "\n",
        "Пример:\n",
        "\n",
        "`Введите число:` 2\n",
        "\n",
        "`Ваше число четное!`"
      ],
      "metadata": {
        "id": "SAUm9W6_Etkh"
      }
    },
    {
      "cell_type": "code",
      "source": [
        "if int(input('Введите число: ')) % 2 == 0:\n",
        "  print('Ваше число четное!')\n",
        "else:\n",
        "  print('Ваше число нечетное!')\n"
      ],
      "metadata": {
        "id": "LXv7AIN1E4on",
        "colab": {
          "base_uri": "https://localhost:8080/"
        },
        "outputId": "3b46a10b-5322-4350-b3d8-b564a069fcf3"
      },
      "execution_count": null,
      "outputs": [
        {
          "output_type": "stream",
          "name": "stdout",
          "text": [
            "Введите число: 5\n",
            "Ваше число нечетное!\n"
          ]
        }
      ]
    },
    {
      "cell_type": "markdown",
      "source": [
        "Задание 4: Напишите программу которая запрашивает длинну и ширину прямоугольника и выводит его площадь:\n",
        "\n",
        "\n",
        "\n",
        "`Введите длинну прямоугольника:`\n",
        "\n",
        "`Введите ширину прямоугольника:`\n",
        "\n",
        "`Площадь прямоугольника: `\n",
        "\n"
      ],
      "metadata": {
        "id": "OW1Y5KyUE_n9"
      }
    },
    {
      "cell_type": "code",
      "source": [
        "print('Площадь прямоугольника:', (int(input('Введите длинну прямоугольника:')) * int(input('Введите ширину прямоугольника:'))))"
      ],
      "metadata": {
        "id": "Bu5iawknFbXP",
        "colab": {
          "base_uri": "https://localhost:8080/"
        },
        "outputId": "35bc9065-de1a-4795-b34a-5a8864417d71"
      },
      "execution_count": null,
      "outputs": [
        {
          "output_type": "stream",
          "name": "stdout",
          "text": [
            "Введите длинну прямоугольника:10\n",
            "Введите ширину прямоугольника:10\n",
            "Площадь прямоугольника: 100\n"
          ]
        }
      ]
    },
    {
      "cell_type": "markdown",
      "source": [
        "Задание 5: Напишите программу, которая будет вычислять среднее арифметическое введенных чисел"
      ],
      "metadata": {
        "id": "xj8_QNLsFfLw"
      }
    },
    {
      "cell_type": "code",
      "source": [
        "m = input('Введите числа через пробел: ').split()\n",
        "for i in range(0, len(m)):\n",
        "  m[i] = int(m[i])\n",
        "print(sum(m) / len(m))"
      ],
      "metadata": {
        "id": "omumX59JFoKw",
        "colab": {
          "base_uri": "https://localhost:8080/"
        },
        "outputId": "dfc797a5-1510-4379-b511-5074fca5c370"
      },
      "execution_count": null,
      "outputs": [
        {
          "output_type": "stream",
          "name": "stdout",
          "text": [
            "Введите числа через пробел: 1 2 3\n",
            "2.0\n"
          ]
        }
      ]
    },
    {
      "cell_type": "markdown",
      "source": [
        "# Практика 0.2.1"
      ],
      "metadata": {
        "id": "XWBhGpdEFo-U"
      }
    },
    {
      "cell_type": "markdown",
      "source": [
        "**Шахматы**\n",
        "\n",
        "Даны стартовые и конечные координаты, а также фигура\n",
        "\n",
        "Необходимо определить, может ли заданная фигура так ходить?"
      ],
      "metadata": {
        "id": "9Lw9odpqFwtn"
      }
    },
    {
      "cell_type": "code",
      "source": [
        "print('Вы играйте за белых.')\n",
        "figureType = input('Введите фигуру (пешка, конь, слон, ладья, ферзь, король) ')\n",
        "startPosX, startPosY = int(input('Введите стартовые координаты X (от 1 до 8): ')), int(input('Введите стартовые координаты Y (от 1 до 8): '))\n",
        "endPosX, endPosY = int(input('Введите конечные координаты X (от 1 до 8): ')), int(input('Введите конечные координаты Y (от 1 до 8): '))\n",
        "\n",
        "if startPosX > 8 or startPosX < 1 or startPosY > 8 or startPosY < 1 or endPosX > 8 or endPosX < 1 or  endPosY > 8 or endPosY < 1:\n",
        "  print('Неверные координаты')\n",
        "  quit()\n",
        "\n",
        "\n",
        "if figureType == 'пешка':\n",
        "  if startPosX == endPosX and endPosY == startPosY + 1:\n",
        "    print('Да.')\n",
        "  else:\n",
        "    print('Нет.')\n",
        "\n",
        "if figureType == 'конь':\n",
        "  if endPosX == startPosX - 1 and (endPosY == startPosY + 2 or endPosY == startPosY - 2):\n",
        "    print('Да.')\n",
        "  elif endPosX == startPosX - 2 and (endPosY == startPosY + 1 or endPosY == startPosY - 1):\n",
        "    print('Да.')\n",
        "  elif endPosX == startPosX + 1 and (endPosY == startPosY + 2 or endPosY == startPosY - 2):\n",
        "    print('Да.')\n",
        "  elif endPosX == startPosX + 2 and (endPosY == startPosY + 1 or endPosY == startPosY - 1):\n",
        "    print('Да.')\n",
        "  else:\n",
        "    print('Нет.')\n",
        "\n",
        "if figureType == 'слон':\n",
        "  if (endPosX == startPosX + 1 or endPosX == startPosX - 1 ) and (endPosY == startPosY + 1 or endPosY == startPosY - 1):\n",
        "    print('Да.')\n",
        "  elif (endPosX == startPosX + 2 or endPosX == startPosX - 2 ) and (endPosY == startPosY + 2 or endPosY == startPosY - 2):\n",
        "    print('Да.')\n",
        "  elif (endPosX == startPosX + 3 or endPosX == startPosX - 3 ) and (endPosY == startPosY + 3 or endPosY == startPosY - 3):\n",
        "    print('Да.')\n",
        "  elif (endPosX == startPosX + 4 or endPosX == startPosX - 4 ) and (endPosY == startPosY + 4 or endPosY == startPosY - 4):\n",
        "    print('Да.')\n",
        "  elif (endPosX == startPosX + 5 or endPosX == startPosX - 5 ) and (endPosY == startPosY + 5 or endPosY == startPosY - 5):\n",
        "    print('Да.')\n",
        "  elif (endPosX == startPosX + 6 or endPosX == startPosX - 6 ) and (endPosY == startPosY + 6 or endPosY == startPosY - 6):\n",
        "    print('Да.')\n",
        "  elif (endPosX == startPosX + 7 or endPosX == startPosX - 7 ) and (endPosY == startPosY + 7 or endPosY == startPosY - 7):\n",
        "    print('Да.')\n",
        "  else:\n",
        "    print('Нет.')\n",
        "if figureType == 'ладья':\n",
        "  if (endPosX == startPosX) and ((endPosY == startPosY - 1) or (endPosY == startPosY - 2) or (endPosY == startPosY - 3) or (endPosY == startPosY - 4) or (endPosY == startPosY - 5) or (endPosY == startPosY - 6) or (\n",
        "  endPosY == startPosY - 7)):\n",
        "    print('Да.')\n",
        "  elif (endPosX == startPosX) and ((endPosY == startPosY + 1) or (endPosY == startPosY + 2) or (endPosY == startPosY + 3) or (endPosY == startPosY + 4) or (endPosY == startPosY + 5) or (endPosY == startPosY + 6) or (\n",
        "  endPosY == startPosY + 7)):\n",
        "    print('Да.')\n",
        "  elif (endPosY == startPosY) and ((endPosX == startPosX - 1) or (endPosX == startPosX - 2) or (endPosX == startPosX - 3) or (endPosX == startPosX - 4) or (endPosX == startPosX - 5) or (endPosX == startPosX - 6) or (\n",
        "  endPosX == startPosX - 7)):\n",
        "    print('Да.')\n",
        "  elif (endPosY == startPosY) and ((endPosX == startPosX + 1) or (endPosX == startPosX + 2) or (endPosX == startPosX + 3) or (endPosX == startPosX + 4) or (endPosX == startPosX + 5) or (endPosX == startPosX + 6) or (\n",
        "  endPosX == startPosX + 7)):\n",
        "    print('Да.')\n",
        "  else:\n",
        "    print('Нет.')\n",
        "if figureType == 'король':\n",
        "  if (endPosX == startPosX - 1 or endPosX == startPosX + 1 or endPosX == startPosX) and (endPosY == startPosY - 1 or endPosY == startPosY + 1 or endPosY == startPosY):\n",
        "    print('Да.')\n",
        "  else:\n",
        "    print('Нет.')\n",
        "if figureType == 'ферзь':\n",
        "    if (endPosX == startPosX - 1 or endPosX == startPosX + 1 or endPosX == startPosX) and (endPosY == startPosY - 1 or endPosY == startPosY + 1 or endPosY == startPosY):\n",
        "      print('Да.')\n",
        "    elif (endPosX == startPosX) and ((endPosY == startPosY - 1) or (endPosY == startPosY - 2) or (endPosY == startPosY - 3) or (endPosY == startPosY - 4) or (endPosY == startPosY - 5) or (endPosY == startPosY - 6) or (\n",
        "  endPosY == startPosY - 7)):\n",
        "      print('Да.')\n",
        "    elif (endPosX == startPosX) and ((endPosY == startPosY + 1) or (endPosY == startPosY + 2) or (endPosY == startPosY + 3) or (endPosY == startPosY + 4) or (endPosY == startPosY + 5) or (endPosY == startPosY + 6) or (\n",
        "  endPosY == startPosY + 7)):\n",
        "      print('Да.')\n",
        "    elif (endPosY == startPosY) and ((endPosX == startPosX - 1) or (endPosX == startPosX - 2) or (endPosX == startPosX - 3) or (endPosX == startPosX - 4) or (endPosX == startPosX - 5) or (endPosX == startPosX - 6) or (\n",
        "  endPosX == startPosX - 7)):\n",
        "      print('Да.')\n",
        "    elif (endPosY == startPosY) and ((endPosX == startPosX + 1) or (endPosX == startPosX + 2) or (endPosX == startPosX + 3) or (endPosX == startPosX + 4) or (endPosX == startPosX + 5) or (endPosX == startPosX + 6) or (\n",
        "  endPosX == startPosX + 7)):\n",
        "      print('Да.')\n",
        "    elif (endPosX == startPosX + 1 or endPosX == startPosX - 1 ) and (endPosY == startPosY + 1 or endPosY == startPosY - 1):\n",
        "      print('Да.')\n",
        "    elif (endPosX == startPosX + 2 or endPosX == startPosX - 2 ) and (endPosY == startPosY + 2 or endPosY == startPosY - 2):\n",
        "      print('Да.')\n",
        "    elif (endPosX == startPosX + 3 or endPosX == startPosX - 3 ) and (endPosY == startPosY + 3 or endPosY == startPosY - 3):\n",
        "      print('Да.')\n",
        "    elif (endPosX == startPosX + 4 or endPosX == startPosX - 4 ) and (endPosY == startPosY + 4 or endPosY == startPosY - 4):\n",
        "      print('Да.')\n",
        "    elif (endPosX == startPosX + 5 or endPosX == startPosX - 5 ) and (endPosY == startPosY + 5 or endPosY == startPosY - 5):\n",
        "      print('Да.')\n",
        "    elif (endPosX == startPosX + 6 or endPosX == startPosX - 6 ) and (endPosY == startPosY + 6 or endPosY == startPosY - 6):\n",
        "      print('Да.')\n",
        "    elif (endPosX == startPosX + 7 or endPosX == startPosX - 7 ) and (endPosY == startPosY + 7 or endPosY == startPosY - 7):\n",
        "      print('Да.')\n",
        "    else:\n",
        "      print('Нет.')\n"
      ],
      "metadata": {
        "id": "9IICo0p3F07P",
        "colab": {
          "base_uri": "https://localhost:8080/"
        },
        "outputId": "262557e0-fcae-4fec-e6fc-7cacd8a5fb29"
      },
      "execution_count": null,
      "outputs": [
        {
          "output_type": "stream",
          "name": "stdout",
          "text": [
            "Введите стартовые координаты X (от 1 до 8): 5\n",
            "Введите стартовые координаты Y (от 1 до 8): 1\n",
            "Введите конечные координаты X (от 1 до 8): 6\n",
            "Введите конечные координаты Y (от 1 до 8): 2\n",
            "Введите фигуру (пешка, конь, слон, ладья, ферзь, король) конь\n",
            "Нет.\n"
          ]
        }
      ]
    },
    {
      "cell_type": "markdown",
      "source": [
        "# Практика 0.2.2\n",
        "\n",
        "**Цифра на определенном месте:**\n",
        "\n",
        "Последовательно записан натуральный ряд чисел.\n",
        "\n",
        "Какая цифра стоит в N позиции"
      ],
      "metadata": {
        "id": "wI5bLNpHGDmO"
      }
    },
    {
      "cell_type": "code",
      "source": [
        "arr = input('Введите числа через пробел: ').split()\n",
        "sumOf = ''\n",
        "for x in arr:\n",
        "  sumOf += x\n",
        "n = int(input('Введите N: '))\n",
        "print(sumOf[n - 1])"
      ],
      "metadata": {
        "id": "XLm_zFGzGNsU",
        "colab": {
          "base_uri": "https://localhost:8080/"
        },
        "outputId": "9a351e2d-8a0a-4acc-a44a-f4562e5e752b"
      },
      "execution_count": null,
      "outputs": [
        {
          "output_type": "stream",
          "name": "stdout",
          "text": [
            "Введите числа через пробел: 4555 5555 4444 123 456 789 789 456\n",
            "Введите N: 10\n",
            "4\n"
          ]
        }
      ]
    },
    {
      "cell_type": "markdown",
      "source": [
        "**Математическое выражение:**\n",
        "\n",
        "Дано математическое выражение проверить, правильно ли расставлены скобки.\n"
      ],
      "metadata": {
        "id": "2rCzY4D_0hP5"
      }
    },
    {
      "cell_type": "code",
      "source": [
        "exp = input('Введите выражение ')\n",
        "oper = ['+', '-', '/', '*', '%']\n",
        "left, right = 0, 0\n",
        "bol = True\n",
        "for i in range(0, len(exp)):\n",
        "  if exp[i] == '(':\n",
        "    left += 1\n",
        "  if exp[i] == ')':\n",
        "    right += 1\n",
        "for i in range(0, len(exp)-1):\n",
        "  if exp[i] in oper:\n",
        "     if exp[i-1] == '(' or exp[i+1] == ')':\n",
        "      bol = False\n",
        "if left == right and bol:\n",
        "  print('Скобки расставлены верно')\n",
        "else:\n",
        "  print('Скобки расставлены неверно')"
      ],
      "metadata": {
        "colab": {
          "base_uri": "https://localhost:8080/"
        },
        "id": "FrfmvI990gtX",
        "outputId": "fcd64f7d-65b0-4026-860a-0868defa773b"
      },
      "execution_count": null,
      "outputs": [
        {
          "output_type": "stream",
          "name": "stdout",
          "text": [
            "Введите выражение 5+(+)+5\n",
            "Скобки расставлены неверно\n"
          ]
        }
      ]
    }
  ]
}