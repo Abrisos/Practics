{
  "nbformat": 4,
  "nbformat_minor": 0,
  "metadata": {
    "colab": {
      "provenance": []
    },
    "kernelspec": {
      "name": "python3",
      "display_name": "Python 3"
    },
    "language_info": {
      "name": "python"
    }
  },
  "cells": [
    {
      "cell_type": "markdown",
      "source": [
        "**ФИО:**"
      ],
      "metadata": {
        "id": "GEsFKJm-ABFp"
      }
    },
    {
      "cell_type": "code",
      "execution_count": null,
      "metadata": {
        "id": "wZMLYG_G_-19"
      },
      "outputs": [],
      "source": [
        "Петрик Артём Александрович"
      ]
    },
    {
      "cell_type": "markdown",
      "source": [
        "# Задание 1"
      ],
      "metadata": {
        "id": "H4DrYnJjADuZ"
      }
    },
    {
      "cell_type": "markdown",
      "source": [
        "**Описание:** Создайте иерархию классов для разных типов сотрудников в компании. Реализуйте родительский класс Employee и дочерние классы Manager и Developer. Каждый класс должен иметь метод для расчета зарплаты на основе различных критериев класса.\n",
        "\n",
        "\n",
        "Отрабатываемый принцип: Наследование\n",
        "\n"
      ],
      "metadata": {
        "id": "C17FWep-AF4a"
      }
    },
    {
      "cell_type": "code",
      "source": [
        "class Employee:\n",
        "    def __init__(self, first_name, second_name, gender):\n",
        "        self.first_name = first_name\n",
        "        self.second_name = second_name\n",
        "        self.gender = gender\n",
        "\n",
        "\n",
        "class Manager(Employee):\n",
        "    work_days = 20\n",
        "    salary_per_day = 500\n",
        "\n",
        "    def calculate_salary(self):\n",
        "        return f'{self.first_name} зарабатывает {self.work_days * self.salary_per_day}'\n",
        "\n",
        "\n",
        "class Developer(Employee):\n",
        "    work_days = 30\n",
        "    salary_per_day = 600\n",
        "\n",
        "    def calculate_salary(self):\n",
        "        return f'{self.first_name} зарабатывает {self.work_days * self.salary_per_day}'\n",
        "\n",
        "\n",
        "developer = Developer('Олег', 'Гело', 'Муж')\n",
        "print(developer.calculate_salary())\n",
        "manager = Manager('Вика', 'Акив', 'Жен')\n",
        "print(manager.calculate_salary())"
      ],
      "metadata": {
        "id": "aexGXzqCAFH7",
        "colab": {
          "base_uri": "https://localhost:8080/"
        },
        "outputId": "acccd542-4f6d-4e11-a3ba-4c5db89d83b8"
      },
      "execution_count": null,
      "outputs": [
        {
          "output_type": "stream",
          "name": "stdout",
          "text": [
            "Олег зарабатывает 18000\n",
            "Вика зарабатывает 10000\n"
          ]
        }
      ]
    },
    {
      "cell_type": "markdown",
      "source": [
        "# Задание 2"
      ],
      "metadata": {
        "id": "ERAi0TG5BI6v"
      }
    },
    {
      "cell_type": "markdown",
      "source": [
        "**Описание:** Создайте иерархию классов для различных типов транспортных средств (Необходим один родительский класс и 3 дочерних). Реализуйте метод, который позволяет каждому транспортному средству возвращать собственное описание (Метод в каждом классе должен иметь одинаковое название). Продемонстрируйте вызов данного метода для каждого транспортного средства.\n",
        "\n",
        "\n",
        "Отрабатываемый принцип: Полиморфизм"
      ],
      "metadata": {
        "id": "sJ3k7ZcgBK87"
      }
    },
    {
      "cell_type": "code",
      "source": [
        "class Vehicle:\n",
        "    def __init__(self, model, average_speed):\n",
        "        self.model = model\n",
        "        self.average_speed = average_speed\n",
        "\n",
        "\n",
        "    def makeSound(self):\n",
        "        pass\n",
        "\n",
        "\n",
        "    def displayInfo(self):\n",
        "        print(f'Модель: {self.model}\\nСредняя скорость: {self.average_speed}')\n",
        "\n",
        "\n",
        "class Car(Vehicle):\n",
        "    def makeSound(self):\n",
        "        print('*звуки машины*')\n",
        "\n",
        "\n",
        "class Train(Vehicle):\n",
        "    def makeSound(self):\n",
        "        print('*звуки поезда*')\n",
        "\n",
        "\n",
        "class Plane(Vehicle):\n",
        "    def makeSound(self):\n",
        "        print('*звуки самолета*')\n",
        "\n",
        "\n",
        "car = Car('zhigul', 30)\n",
        "train = Train('IC', 60)\n",
        "plane = Plane('Boing', 900)\n",
        "\n",
        "for vehicle in (car, train, plane):\n",
        "  vehicle.displayInfo()"
      ],
      "metadata": {
        "id": "WOFOZQmDBKf4",
        "colab": {
          "base_uri": "https://localhost:8080/"
        },
        "outputId": "29566443-e961-40ae-fa29-595bf5df287a"
      },
      "execution_count": null,
      "outputs": [
        {
          "output_type": "stream",
          "name": "stdout",
          "text": [
            "12\n",
            "Модель: zhigul\n",
            "Средняя скорость: 30\n",
            "Модель: IC\n",
            "Средняя скорость: 60\n",
            "Модель: Boing\n",
            "Средняя скорость: 900\n"
          ]
        }
      ]
    },
    {
      "cell_type": "markdown",
      "source": [
        "# Задание 3"
      ],
      "metadata": {
        "id": "7E_SJXMJBvD4"
      }
    },
    {
      "cell_type": "markdown",
      "source": [
        "Онлайн-магазин:\n",
        "- Создайте модель для онлайн-магазина с классами Product, Order, Customer, и ShoppingCart.\n",
        "- Product включает информацию о цене, наличии на складе и категории товара.\n",
        "Order обрабатывает процесс покупки, включая расчет цены с учетом скидок и налогов.\n",
        "- Customer управляет информацией о пользователе и его истории заказов.\n",
        "- ShoppingCart позволяет добавлять, удалять и обновлять количество товаров перед оформлением заказа.\n"
      ],
      "metadata": {
        "id": "dd1mwKj_BxHa"
      }
    },
    {
      "cell_type": "code",
      "source": [
        "class Product:\n",
        "    def __init__(self, category, price, available_quantity):\n",
        "        self.category = category\n",
        "        self.price = price\n",
        "        self.available_quantity = available_quantity\n",
        "\n",
        "class ShoppingCart:\n",
        "    shopping_cart = {}\n",
        "\n",
        "    def add(self, product: Product):\n",
        "        amount = int(input('Введите количество товара '))\n",
        "        if product.available_quantity >= amount:\n",
        "            self.shopping_cart[product] = amount\n",
        "            product.available_quantity -= amount\n",
        "            print('Товар добавлен')\n",
        "        else:\n",
        "          print('Недостаточно товара на складе')\n",
        "\n",
        "    def remove(self, product: Product):\n",
        "        if self.shopping_cart[product]:\n",
        "            product.available_quantity += self.shopping_cart[product]\n",
        "            self.shopping_cart.pop(product)\n",
        "            print('Товар удален')\n",
        "        else:\n",
        "            print('Товар не найден в корзине')\n",
        "\n",
        "    def update(self, product: Product):\n",
        "        change = input('Вы хотите добавить товар? Да/Нет\\n')\n",
        "        change_amount = int(input('Введите количество на'\n",
        "                                  'которое хотите изменить: '))\n",
        "\n",
        "        if change == 'Нет':\n",
        "            if change_amount <= self.shopping_cart[product]:\n",
        "                change_amount *= -1\n",
        "                self.shopping_cart[product] += change_amount\n",
        "                product.available_quantity -= change_amount\n",
        "            else:\n",
        "                print('Вы пытайтесь удалить больше товара, чем есть у вас')\n",
        "        elif change == 'Да':\n",
        "            if product.available_quantity >= change_amount:\n",
        "              self.shopping_cart[product] += change_amount\n",
        "              product.available_quantity -= change_amount\n",
        "\n",
        "    def display_cart(self):\n",
        "        for k, v in self.shopping_cart.items():\n",
        "            print(f'Товар: {k.category}, количество: {v}')\n",
        "\n",
        "    def clear_cart(self):\n",
        "        self.shopping_cart.clear()\n",
        "\n",
        "class Order(ShoppingCart):\n",
        "    def __init__(self, promocode, tax, customer):\n",
        "        self.promocode = promocode\n",
        "        self.tax = tax\n",
        "        self.customer = customer\n",
        "\n",
        "    def calculate_price(self):\n",
        "        total_price = 0\n",
        "        for product, amount in self.shopping_cart.items():\n",
        "            total_price += product.price * amount\n",
        "        if self.promocode == 'WINTER2024':\n",
        "            total_price -= total_price * 0.1\n",
        "            print('Промокод применён')\n",
        "        else:\n",
        "            print('Промокод не найден')\n",
        "        total_price += self.tax\n",
        "        print(f'Сумма: {total_price}')\n",
        "\n",
        "        self.customer.order_history[self.customer.name].append(total_price)\n",
        "        self.shopping_cart.clear()\n",
        "\n",
        "class Customer:\n",
        "    order_history = {}\n",
        "\n",
        "    def __init__(self, name):\n",
        "        self.name = name\n",
        "        self.order_history[name] = []\n",
        "\n",
        "    def display_order_history(self):\n",
        "        print(f'История заказов пользователя {self.order_history}')\n",
        "\n",
        "egg = Product('egg', 10, 12) # Список продуктов\n",
        "milk = Product('milk', 40, 10)\n",
        "banana = Product('banana', 100, 1000)\n",
        "\n",
        "\n",
        "def start_menu():\n",
        "  num = input('1 -> Войти в аккаунт\\n2 -> Выйти из магазина\\n')\n",
        "  if num == '1':\n",
        "    user = Customer(input('Введите имя: '))\n",
        "    start(user)\n",
        "  if num == '2':\n",
        "    return 0\n",
        "\n",
        "\n",
        "def start(user):\n",
        "  shopping_cart = ShoppingCart()\n",
        "\n",
        "  num = input('1 -> Добавить товар в корзину\\n'\n",
        "              '2 -> Удалить товар из корзины\\n'\n",
        "              '3 -> Изменить количество товара в корзине\\n'\n",
        "              '4 -> Посмотреть корзину\\n'\n",
        "              '5 -> Оплатить\\n'\n",
        "              '6 -> Посмотреть историю заказов\\n'\n",
        "              '7 -> Выйти из аккаунта\\n')\n",
        "\n",
        "  if num == '1':\n",
        "    shopping_cart.add(type_specifier())\n",
        "  if num == '2':\n",
        "    shopping_cart.remove(type_specifier())\n",
        "  if num == '3':\n",
        "    shopping_cart.update(type_specifier())\n",
        "  if num == '4':\n",
        "    shopping_cart.display_cart()\n",
        "  if num == '5':\n",
        "    order = Order(input('Введите промокод\\n'), 0.05, user)\n",
        "    order.calculate_price()\n",
        "    shopping_cart.clear_cart()\n",
        "  if num == '6':\n",
        "    user.display_order_history()\n",
        "  if num == '7':\n",
        "    start_menu()\n",
        "  start(user)\n",
        "\n",
        "\n",
        "def type_specifier():\n",
        "    product_type = input('1 -> Яйца\\n'\n",
        "                         '2 -> Молоко\\n'\n",
        "                         '3 -> Бананы\\n')\n",
        "    if product_type == '1':\n",
        "       product_type = egg\n",
        "    elif product_type == '2':\n",
        "       product_type = milk\n",
        "    elif product_type == '3':\n",
        "       product_type = banana\n",
        "    return product_type\n",
        "\n",
        "\n",
        "\n",
        "start_menu()"
      ],
      "metadata": {
        "id": "wkCcv_K-Bwdv"
      },
      "execution_count": null,
      "outputs": []
    },
    {
      "cell_type": "markdown",
      "source": [
        "# Задание 4"
      ],
      "metadata": {
        "id": "ih7iPlYfB7lL"
      }
    },
    {
      "cell_type": "markdown",
      "source": [
        "Симулятор космического корабля:\n",
        "- Создайте симулятор управления космическим кораблем с классами SpaceShip, CrewMember, и Mission.\n",
        "- SpaceShip имеет атрибуты для управления топливом, состоянием корпуса, и текущей скоростью.\n",
        "- CrewMember контролирует здоровье, навыки, и роли в команде (например, пилот, инженер).\n",
        "- Mission определяет цели, ресурсы, и возможные события (например, аварии, встречи с астероидами)."
      ],
      "metadata": {
        "id": "zLwqVCbpCBvc"
      }
    },
    {
      "cell_type": "code",
      "source": [
        "import random\n",
        "\n",
        "class SpaceShip:\n",
        "    def __init__(self, fuel, health, speed):\n",
        "        self.fuel = fuel\n",
        "        self.health = health\n",
        "        self.speed = speed\n",
        "        self.crew = []\n",
        "\n",
        "    def add_crew(self, crew_member):\n",
        "        self.crew.append(crew_member)\n",
        "\n",
        "    def remove_crew(self, crew_member):\n",
        "        self.crew.remove(crew_member)\n",
        "\n",
        "    def add_fuel(self, amount):\n",
        "        self.fuel += amount\n",
        "\n",
        "    def remove_fuel(self, amount):\n",
        "        self.fuel -= amount\n",
        "\n",
        "    def add_health(self, amount):\n",
        "        self.health += amount\n",
        "\n",
        "    def remove_health(self, amount):\n",
        "        self.health -= amount\n",
        "\n",
        "    def add_speed(self, amount):\n",
        "        self.speed += amount\n",
        "\n",
        "    def remove_speed(self, amount):\n",
        "        self.speed -= amount\n",
        "\n",
        "    def display_info(self):\n",
        "        print(f'Топливо: {self.fuel}\\nЗдоровье: {self.health}\\nСкорость: {self.speed}')\n",
        "\n",
        "class CrewMember:\n",
        "    def __init__(self, name, health, skills):\n",
        "        self.name = name\n",
        "        self.health = health\n",
        "        self.skills = skills\n",
        "        self.role = None\n",
        "\n",
        "    def add_health(self, amount):\n",
        "        self.health += amount\n",
        "\n",
        "    def remove_health(self, amount):\n",
        "        self.health -= amount\n",
        "\n",
        "    def add_skills(self, skills):\n",
        "        self.skills += skills\n",
        "\n",
        "    def remove_skills(self, skills):\n",
        "        self.skills -= skills\n",
        "\n",
        "    def add_role(self, role):\n",
        "        self.role = role\n",
        "\n",
        "    def remove_role(self, role):\n",
        "        self.role = role\n",
        "\n",
        "    def display_info(self):\n",
        "        print(f'Имя: {self.name}\\nЗдоровье: {self.health}\\nНавыки: {self.skills}\\nРоль: {self.role}')\n",
        "\n",
        "class Mission:\n",
        "    def __init__(self, name, resources, events):\n",
        "        self.name = name\n",
        "        self.resources = resources\n",
        "        self.events = events\n",
        "        self.success = False\n",
        "\n",
        "    def add_resources(self, resources):\n",
        "        self.resources += resources\n",
        "\n",
        "    def remove_resources(self, resources):\n",
        "        self.resources -= resources\n",
        "\n",
        "    def add_events(self, events):\n",
        "        self.events += events\n",
        "\n",
        "    def remove_events(self, events):\n",
        "        self.events -= events\n",
        "\n",
        "    def set_success(self, success):\n",
        "        self.success = success\n",
        "\n",
        "    def display_info(self):\n",
        "        print(f'Название: {self.name}\\nРесурсы: {self.resources}\\nСобытия: {self.events}\\nУспешно: {self.success}')\n",
        "\n",
        "\n",
        "ship = SpaceShip(100, 100, 0)\n",
        "\n",
        "crew_member1 = CrewMember(\"Иван\", 100, [\"пилот\", \"инженер\"])\n",
        "crew_member2 = CrewMember(\"Мария\", 100, [\"ученый\", \"медик\"])\n",
        "\n",
        "ship.add_crew(crew_member1)\n",
        "ship.add_crew(crew_member2)\n",
        "\n",
        "mission = Mission(\"Полет на Марс\", 1000, [\"авария\", \"встреча с астероидом\"])\n",
        "\n",
        "ship.display_info()\n",
        "crew_member1.display_info()\n",
        "crew_member2.display_info()\n",
        "mission.display_info()\n"
      ],
      "metadata": {
        "id": "4NyrOOy8B9ED",
        "colab": {
          "base_uri": "https://localhost:8080/"
        },
        "outputId": "16e8169e-3dd3-43ee-aa48-8a5519e7f3cb"
      },
      "execution_count": null,
      "outputs": [
        {
          "output_type": "stream",
          "name": "stdout",
          "text": [
            "Топливо: 100\n",
            "Здоровье: 100\n",
            "Скорость: 0\n",
            "Имя: Иван\n",
            "Здоровье: 100\n",
            "Навыки: ['пилот', 'инженер']\n",
            "Роль: None\n",
            "Имя: Мария\n",
            "Здоровье: 100\n",
            "Навыки: ['ученый', 'медик']\n",
            "Роль: None\n",
            "Название: Полет на Марс\n",
            "Ресурсы: 1000\n",
            "События: ['авария', 'встреча с астероидом']\n",
            "Успешно: False\n"
          ]
        }
      ]
    },
    {
      "cell_type": "markdown",
      "source": [
        "# Дополнительно:"
      ],
      "metadata": {
        "id": "F7mRVsZjCXk0"
      }
    },
    {
      "cell_type": "markdown",
      "source": [
        "**Описание:** создайте консольную версию игры крестики-нолики, используя классы"
      ],
      "metadata": {
        "id": "X4Lkf86UCc1h"
      }
    },
    {
      "cell_type": "code",
      "source": [],
      "metadata": {
        "id": "x9OxpNsyCcUo"
      },
      "execution_count": null,
      "outputs": []
    }
  ]
}