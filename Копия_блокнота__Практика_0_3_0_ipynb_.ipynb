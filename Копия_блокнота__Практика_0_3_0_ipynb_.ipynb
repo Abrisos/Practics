{
  "nbformat": 4,
  "nbformat_minor": 0,
  "metadata": {
    "colab": {
      "provenance": []
    },
    "kernelspec": {
      "name": "python3",
      "display_name": "Python 3"
    },
    "language_info": {
      "name": "python"
    }
  },
  "cells": [
    {
      "cell_type": "markdown",
      "source": [
        "ФИО"
      ],
      "metadata": {
        "id": "phMKaFq3DN13"
      }
    },
    {
      "cell_type": "code",
      "execution_count": null,
      "metadata": {
        "id": "3CWpaI7SDK8t"
      },
      "outputs": [],
      "source": [
        "Петрик Артём Александрович"
      ]
    },
    {
      "cell_type": "markdown",
      "source": [
        "**Во всей практике нельзя применять библиотеки предоставляющие готовые решения!**"
      ],
      "metadata": {
        "id": "jyIy3GOgFOCe"
      }
    },
    {
      "cell_type": "markdown",
      "source": [
        "# **Задача 1.**\n"
      ],
      "metadata": {
        "id": "XizmlL1RK2t3"
      }
    },
    {
      "cell_type": "markdown",
      "source": [
        "\n",
        "\n",
        "Типы данных Напишите программу на Python, которая принимает список чисел в качестве входных данных от пользователя, а затем выводит сумму, среднее значение и максимальное значение из списка.\n",
        "\n",
        "Дано:\n",
        "```\n",
        "1 2 3 4 5 6 7\n",
        "```\n",
        "Вывод:\n",
        "\n",
        "```\n",
        "Сумма чисел: 28\n",
        "Среднее арифм.: 4.0\n",
        "Максимальное значение: 7\n",
        "```\n",
        "\n"
      ],
      "metadata": {
        "id": "p0v6KtHTFKSd"
      }
    },
    {
      "cell_type": "code",
      "source": [
        "summ = 0\n",
        "aver = 0\n",
        "maxx = 0\n",
        "lenn = 0\n",
        "m = input('Введите список чисел: ').split()\n",
        "for x in m:\n",
        "  lenn += 1\n",
        "for i in range(0, lenn):\n",
        "  m[i] = int(m[i])\n",
        "for x in m:\n",
        "  summ += x\n",
        "  if maxx < x:\n",
        "    maxx = x\n",
        "aver = summ / lenn\n",
        "print('Сумма чисел:', summ)\n",
        "print('Среднее арифм:', aver)\n",
        "print('Максимальное значение:', maxx)"
      ],
      "metadata": {
        "id": "0e1Virl0FpF6",
        "colab": {
          "base_uri": "https://localhost:8080/"
        },
        "outputId": "f6429d14-3a6e-41ec-8482-051020f15729"
      },
      "execution_count": null,
      "outputs": [
        {
          "output_type": "stream",
          "name": "stdout",
          "text": [
            "Введите список чисел: 1 2 3\n",
            "Сумма чисел: 6\n",
            "Среднее арифм: 2.0\n",
            "Максимальное значение: 3\n"
          ]
        }
      ]
    },
    {
      "cell_type": "markdown",
      "source": [
        "# **Задача 2.**"
      ],
      "metadata": {
        "id": "uFluc5OSK0NH"
      }
    },
    {
      "cell_type": "markdown",
      "source": [
        "\n",
        "Напишите программу на Python, которая принимает список слов в качестве входных данных от пользователя, а затем распечатывает список в обратном порядке.\n",
        "\n",
        "Ввод:\n",
        "\n",
        "```\n",
        "апельсин мандарин яблоко\n",
        "```\n",
        "\n",
        "Вывод:\n",
        "\n",
        "```\n",
        "яблоко мандарин апельсин\n",
        "```"
      ],
      "metadata": {
        "id": "6T8vg324GG4Z"
      }
    },
    {
      "cell_type": "code",
      "source": [
        "m = input('Введите список слов: ').split()\n",
        "for i in range(2, -1, -1):\n",
        "  print(m[i], end = ' ')"
      ],
      "metadata": {
        "id": "v3AWj4ufGKox",
        "colab": {
          "base_uri": "https://localhost:8080/"
        },
        "outputId": "3225b80f-9ecf-4c17-f1db-6a1adc452135"
      },
      "execution_count": null,
      "outputs": [
        {
          "output_type": "stream",
          "name": "stdout",
          "text": [
            "Введите список слов: aaa bbb ccc\n",
            "ccc bbb aaa "
          ]
        }
      ]
    },
    {
      "cell_type": "markdown",
      "source": [
        "# **Задача 3**"
      ],
      "metadata": {
        "id": "D1KkCxtIKxRx"
      }
    },
    {
      "cell_type": "markdown",
      "source": [
        "Простой чат-бот\n",
        "Создайте простого чат-бота, который отвечает на основные запросы пользователей. Программа должна использовать условные выражения для определения намерений пользователя и последующего соответствующего ответа.\n",
        "\n",
        "Чат бот может:\n",
        "\n",
        "- помогать складывать числа\n",
        "- подсказывать фильм, музыку и тд (из заранее созданного списка)\n",
        "- создавать список дел (а также выводить его, обновлять, очищать)\n",
        "\n",
        "Интерфейс чат-бота на ваше усмотрение, это могут быть как заранее определенные команды, так и к примеру вызов команды по номеру\n",
        "\n",
        "*Реализовать без использования функций*\n",
        "\n",
        "Пример:\n",
        "\n",
        "Ввод:\n",
        "\n",
        "```\n",
        "Олег, какую мызыку посоветуешь?\n",
        "```\n",
        "\n",
        "Вывод:\n",
        "\n",
        "```\n",
        "Я бы посоветовал вам: Led Zeppelin Stairway to Heaven\n",
        "```"
      ],
      "metadata": {
        "id": "Yq8Jgb9yHvSi"
      }
    },
    {
      "cell_type": "code",
      "source": [
        "import random\n",
        "music = {\n",
        "    \"1\": [\"Led Zeppelin - Stairway to Heaven\", \"Queen - Bohemian Rhapsody\", \"Nirvana - Smells Like Teen Spirit\"],\n",
        "    \"2\": [\"Michael Jackson - Thriller\", \"Madonna - Like a Prayer\", \"Taylor Swift - Shake It Off\"],\n",
        "    \"3\": [\"Tupac - California Love\", \"Eminem - Lose Yourself\", \"Kendrick Lamar - HUMBLE.\"],\n",
        "    \"4\": [\"Ludwig van Beethoven - Symphony No. 9\", \"Wolfgang Amadeus Mozart - Requiem\", \"Johann Sebastian Bach - Toccata and Fugue in D minor\"]\n",
        "}\n",
        "movies = {\n",
        "    \"1\": [\"Die Hard\", \"Mad Max: Fury Road\", \"The Dark Knight\"],\n",
        "    \"2\": [\"Superbad\", \"The Big Lebowski\", \"Groundhog Day\"],\n",
        "    \"3\": [\"The Shawshank Redemption\", \"Forrest Gump\", \"The Godfather\"],\n",
        "    \"4\": [\"Blade Runner 2049\", \"Inception\", \"The Matrix\"]\n",
        "}\n",
        "books = {\n",
        "    \"1\": [\"George Orwell - 1984\", \"J.K. Rowling - Harry Potter and the Sorcerer's Stone\", \"J.R.R. Tolkien - The Hobbit\"],\n",
        "    \"2\": [\"Yuval Noah Harari - Sapiens\", \"Michelle Obama - Becoming\", \"Stephen Hawking - A Brief History of Time\"],\n",
        "    \"3\": [\"Agatha Christie - Murder on the Orient Express\", \"Arthur Conan Doyle - The Hound of the Baskervilles\", \"Gillian Flynn - Gone Girl\"],\n",
        "    \"4\": [\"J.R.R. Tolkien - The Lord of the Rings\", \"George R.R. Martin - A Game of Thrones\", \"C.S. Lewis - The Chronicles of Narnia\"]\n",
        "}\n",
        "num = input('Что будем делать сегодня?' '\\n' '1 -> Складывать числа' '\\n' '2 -> Выбирать фильм, музыку или книгу' '\\n' '3 -> Создавать список дел' '\\n')\n",
        "if num == '1':\n",
        "  summands = []\n",
        "  summ = 0\n",
        "  for i in range(0, int(input('Сколько чисел будем скадывать? \\n'))):\n",
        "    summands.append(input('Введите число: '))\n",
        "  for x in summands:\n",
        "    summ += int(x)\n",
        "  print('Ответ:', summ)\n",
        "if num == '2':\n",
        "  typee = input('Что вам подсказать?' '\\n' '1 -> Музыку' '\\n' '2 -> Фильм' '\\n' '3 -> Книгу' '\\n')\n",
        "  if typee == '1':\n",
        "    genre = input('Выберите жанр' '\\n' '1 -> Рок' '\\n' '2 -> Поп' '\\n' '3 -> Хип-хоп' '\\n' '4 -> Классическая' '\\n')\n",
        "    print(music[genre][random.randint(0,2)])\n",
        "  if typee == '2':\n",
        "    genre = input('Выберите жанр' '\\n' '1 -> Экшен' '\\n' '2 -> Комедия' '\\n' '3 -> Драма' '\\n' '4 -> Научный вымысел' '\\n')\n",
        "    print(movies[genre][random.randint(0,2)])\n",
        "  if typee == '3':\n",
        "    genre = input('Выберите жанр' '\\n' '1 -> Вымысел' '\\n' '2 -> Научно-популярное' '\\n' '3 -> Детектив' '\\n' '4 -> Фэнтези' '\\n')\n",
        "    print(books[genre][random.randint(0,2)])\n",
        "if num == '3':\n",
        "  toDoList = []\n",
        "  while True:\n",
        "    command = input('Что будем делать?' '\\n' '1 -> Вывести список' '\\n' '2 -> Добавить задачу' '\\n' '3 -> Удалить задачу' '\\n' '4 -> Очистить список' '\\n' '5 -> Выход' '\\n')\n",
        "    if command == '5':\n",
        "      break\n",
        "    if command == '1':\n",
        "      for i in range(0, len(toDoList)):\n",
        "        print(i+1, '->', toDoList[i])\n",
        "    if command == '2':\n",
        "      toDoList.append(input('Введите задачу:'))\n",
        "    if command == '3':\n",
        "      for i in range(0, len(toDoList)):\n",
        "        print(i+1, '->', toDoList[i])\n",
        "      rem = int(input('Введите номер задачи которую хотите удалить:'))\n",
        "      if 1 <= rem <= len(toDoList):\n",
        "        toDoList.pop(rem-1)\n",
        "    if command == '4':\n",
        "      toDoList = []"
      ],
      "metadata": {
        "id": "fmW-tmUtINN9",
        "colab": {
          "base_uri": "https://localhost:8080/",
          "height": 1000
        },
        "outputId": "992339e3-ce88-4a7b-85d5-bde6a0e2f83c"
      },
      "execution_count": null,
      "outputs": [
        {
          "output_type": "stream",
          "name": "stdout",
          "text": [
            "Что будем делать сегодня?\n",
            "1 -> Складывать числа\n",
            "2 -> Выбирать фильм, музыку или книгу\n",
            "3 -> Создавать список дел\n",
            "3\n",
            "Что будем делать?\n",
            "1 -> Вывести список\n",
            "2 -> Добавить задачу\n",
            "3 -> Удалить задачу\n",
            "4 -> Очистить список\n",
            "5 -> Выход\n",
            "2\n",
            "Введите задачу:1231231312\n",
            "Что будем делать?\n",
            "1 -> Вывести список\n",
            "2 -> Добавить задачу\n",
            "3 -> Удалить задачу\n",
            "4 -> Очистить список\n",
            "5 -> Выход\n",
            "2\n",
            "Введите задачу:1232321321\n",
            "Что будем делать?\n",
            "1 -> Вывести список\n",
            "2 -> Добавить задачу\n",
            "3 -> Удалить задачу\n",
            "4 -> Очистить список\n",
            "5 -> Выход\n",
            "1\n",
            "1 -> 1231231312\n",
            "2 -> 1232321321\n",
            "Что будем делать?\n",
            "1 -> Вывести список\n",
            "2 -> Добавить задачу\n",
            "3 -> Удалить задачу\n",
            "4 -> Очистить список\n",
            "5 -> Выход\n",
            "1\n",
            "1 -> 1231231312\n",
            "2 -> 1232321321\n",
            "Что будем делать?\n",
            "1 -> Вывести список\n",
            "2 -> Добавить задачу\n",
            "3 -> Удалить задачу\n",
            "4 -> Очистить список\n",
            "5 -> Выход\n",
            "3\n",
            "1 -> 1231231312\n",
            "2 -> 1232321321\n",
            "Введите номер задачи которую хотите удалить:1\n",
            "Что будем делать?\n",
            "1 -> Вывести список\n",
            "2 -> Добавить задачу\n",
            "3 -> Удалить задачу\n",
            "4 -> Очистить список\n",
            "5 -> Выход\n",
            "1\n",
            "1 -> 1232321321\n"
          ]
        },
        {
          "output_type": "error",
          "ename": "KeyboardInterrupt",
          "evalue": "Interrupted by user",
          "traceback": [
            "\u001b[0;31m---------------------------------------------------------------------------\u001b[0m",
            "\u001b[0;31mKeyboardInterrupt\u001b[0m                         Traceback (most recent call last)",
            "\u001b[0;32m<ipython-input-17-29c50bdf168a>\u001b[0m in \u001b[0;36m<cell line: 40>\u001b[0;34m()\u001b[0m\n\u001b[1;32m     41\u001b[0m   \u001b[0mtoDoList\u001b[0m \u001b[0;34m=\u001b[0m \u001b[0;34m[\u001b[0m\u001b[0;34m]\u001b[0m\u001b[0;34m\u001b[0m\u001b[0;34m\u001b[0m\u001b[0m\n\u001b[1;32m     42\u001b[0m   \u001b[0;32mwhile\u001b[0m \u001b[0;32mTrue\u001b[0m\u001b[0;34m:\u001b[0m\u001b[0;34m\u001b[0m\u001b[0;34m\u001b[0m\u001b[0m\n\u001b[0;32m---> 43\u001b[0;31m     \u001b[0mcommand\u001b[0m \u001b[0;34m=\u001b[0m \u001b[0minput\u001b[0m\u001b[0;34m(\u001b[0m\u001b[0;34m'Что будем делать?'\u001b[0m \u001b[0;34m'\\n'\u001b[0m \u001b[0;34m'1 -> Вывести список'\u001b[0m \u001b[0;34m'\\n'\u001b[0m \u001b[0;34m'2 -> Добавить задачу'\u001b[0m \u001b[0;34m'\\n'\u001b[0m \u001b[0;34m'3 -> Удалить задачу'\u001b[0m \u001b[0;34m'\\n'\u001b[0m \u001b[0;34m'4 -> Очистить список'\u001b[0m \u001b[0;34m'\\n'\u001b[0m \u001b[0;34m'5 -> Выход'\u001b[0m \u001b[0;34m'\\n'\u001b[0m\u001b[0;34m)\u001b[0m\u001b[0;34m\u001b[0m\u001b[0;34m\u001b[0m\u001b[0m\n\u001b[0m\u001b[1;32m     44\u001b[0m     \u001b[0;32mif\u001b[0m \u001b[0mcommand\u001b[0m \u001b[0;34m==\u001b[0m \u001b[0;34m'5'\u001b[0m\u001b[0;34m:\u001b[0m\u001b[0;34m\u001b[0m\u001b[0;34m\u001b[0m\u001b[0m\n\u001b[1;32m     45\u001b[0m       \u001b[0;32mbreak\u001b[0m\u001b[0;34m\u001b[0m\u001b[0;34m\u001b[0m\u001b[0m\n",
            "\u001b[0;32m/usr/local/lib/python3.10/dist-packages/ipykernel/kernelbase.py\u001b[0m in \u001b[0;36mraw_input\u001b[0;34m(self, prompt)\u001b[0m\n\u001b[1;32m    849\u001b[0m                 \u001b[0;34m\"raw_input was called, but this frontend does not support input requests.\"\u001b[0m\u001b[0;34m\u001b[0m\u001b[0;34m\u001b[0m\u001b[0m\n\u001b[1;32m    850\u001b[0m             )\n\u001b[0;32m--> 851\u001b[0;31m         return self._input_request(str(prompt),\n\u001b[0m\u001b[1;32m    852\u001b[0m             \u001b[0mself\u001b[0m\u001b[0;34m.\u001b[0m\u001b[0m_parent_ident\u001b[0m\u001b[0;34m,\u001b[0m\u001b[0;34m\u001b[0m\u001b[0;34m\u001b[0m\u001b[0m\n\u001b[1;32m    853\u001b[0m             \u001b[0mself\u001b[0m\u001b[0;34m.\u001b[0m\u001b[0m_parent_header\u001b[0m\u001b[0;34m,\u001b[0m\u001b[0;34m\u001b[0m\u001b[0;34m\u001b[0m\u001b[0m\n",
            "\u001b[0;32m/usr/local/lib/python3.10/dist-packages/ipykernel/kernelbase.py\u001b[0m in \u001b[0;36m_input_request\u001b[0;34m(self, prompt, ident, parent, password)\u001b[0m\n\u001b[1;32m    893\u001b[0m             \u001b[0;32mexcept\u001b[0m \u001b[0mKeyboardInterrupt\u001b[0m\u001b[0;34m:\u001b[0m\u001b[0;34m\u001b[0m\u001b[0;34m\u001b[0m\u001b[0m\n\u001b[1;32m    894\u001b[0m                 \u001b[0;31m# re-raise KeyboardInterrupt, to truncate traceback\u001b[0m\u001b[0;34m\u001b[0m\u001b[0;34m\u001b[0m\u001b[0m\n\u001b[0;32m--> 895\u001b[0;31m                 \u001b[0;32mraise\u001b[0m \u001b[0mKeyboardInterrupt\u001b[0m\u001b[0;34m(\u001b[0m\u001b[0;34m\"Interrupted by user\"\u001b[0m\u001b[0;34m)\u001b[0m \u001b[0;32mfrom\u001b[0m \u001b[0;32mNone\u001b[0m\u001b[0;34m\u001b[0m\u001b[0;34m\u001b[0m\u001b[0m\n\u001b[0m\u001b[1;32m    896\u001b[0m             \u001b[0;32mexcept\u001b[0m \u001b[0mException\u001b[0m \u001b[0;32mas\u001b[0m \u001b[0me\u001b[0m\u001b[0;34m:\u001b[0m\u001b[0;34m\u001b[0m\u001b[0;34m\u001b[0m\u001b[0m\n\u001b[1;32m    897\u001b[0m                 \u001b[0mself\u001b[0m\u001b[0;34m.\u001b[0m\u001b[0mlog\u001b[0m\u001b[0;34m.\u001b[0m\u001b[0mwarning\u001b[0m\u001b[0;34m(\u001b[0m\u001b[0;34m\"Invalid Message:\"\u001b[0m\u001b[0;34m,\u001b[0m \u001b[0mexc_info\u001b[0m\u001b[0;34m=\u001b[0m\u001b[0;32mTrue\u001b[0m\u001b[0;34m)\u001b[0m\u001b[0;34m\u001b[0m\u001b[0;34m\u001b[0m\u001b[0m\n",
            "\u001b[0;31mKeyboardInterrupt\u001b[0m: Interrupted by user"
          ]
        }
      ]
    },
    {
      "cell_type": "markdown",
      "source": [
        "# **Задача 4.**\n"
      ],
      "metadata": {
        "id": "PHXBfyc6Ko7D"
      }
    },
    {
      "cell_type": "markdown",
      "source": [
        "Камень, ножницы, бумага\n",
        "\n",
        "Создайте игру в Камень, ножницы, бумагу, в которой пользователь может играть против компьютера. Программа должна запросить выбор пользователя, а затем сгенерировать выбор компьютера. Затем программа должна определить победителя на основе правил игры.\n",
        "\n",
        "**Этап 1:**\n",
        "\n",
        "Определение победителя\n",
        "\n",
        "**Этап 2:**\n",
        "  \n",
        "Игра до 3 побед\n",
        "\n",
        "\n",
        "Вввод для \"Этап 1\":\n",
        "\n",
        "```\n",
        "Камень\n",
        "```\n",
        "\n",
        "Вывод:\n",
        "\n",
        "```\n",
        "Компьютер: Ножницы\n",
        "Игрок: Камень\n",
        "Победа: Игрок\n",
        "```"
      ],
      "metadata": {
        "id": "jnKWeYleI0j6"
      }
    },
    {
      "cell_type": "code",
      "source": [
        "import random\n",
        "def gameLogic(score, stage):\n",
        "  print('Этап ', stage)\n",
        "  while True:\n",
        "    yourMove = int(input('Ваш ход' '\\n' '1 -> Камень' '\\n' '2 -> Ножницы' '\\n' '3 -> Бумага \\n'))\n",
        "    compMove = random.randint(1,3)\n",
        "    if yourMove == compMove:\n",
        "      print('Ничья. Переигрываем.')\n",
        "    if yourMove == 1:\n",
        "      if compMove == 2:\n",
        "        print('Вы победили!')\n",
        "        score[0] += 1\n",
        "        return score\n",
        "      if compMove == 3:\n",
        "        print('Вы проиграли!')\n",
        "        score[1] += 1\n",
        "        return score\n",
        "    if yourMove == 2:\n",
        "      if compMove == 3:\n",
        "        print('Вы победили!')\n",
        "        score[0] += 1\n",
        "        return score\n",
        "      if compMove == 1:\n",
        "        print('Вы проиграли!')\n",
        "        score[1] += 1\n",
        "        return score\n",
        "    if yourMove == 3:\n",
        "      if compMove == 1:\n",
        "        print('Вы победили!')\n",
        "        score[0] += 1\n",
        "        return score\n",
        "      if compMove == 2:\n",
        "        print('Вы проиграли!')\n",
        "        score[1] += 1\n",
        "        return score\n",
        "\n",
        "\n",
        "print('Игра камень, ножницы, бумага \\n' )\n",
        "score = [0,0]\n",
        "stage = 1\n",
        "while max(score) < 3:\n",
        "  score = gameLogic(score, stage)\n",
        "  stage += 1\n",
        "if score[0] == 3:\n",
        "  print('Вы выиграли со счетом ', score)\n",
        "if score[1] == 3:\n",
        "  print('Вы проиграли со счетом ', score)"
      ],
      "metadata": {
        "id": "ooIPCRe_JHkX",
        "colab": {
          "base_uri": "https://localhost:8080/"
        },
        "outputId": "ce50ca50-0b20-4468-fd98-af02302c31ee"
      },
      "execution_count": null,
      "outputs": [
        {
          "output_type": "stream",
          "name": "stdout",
          "text": [
            "Игра камень, ножницы, бумага \n",
            "\n",
            "Этап  1\n",
            "Ваш ход\n",
            "1 -> Камень\n",
            "2 -> Ножницы\n",
            "3 -> Бумага \n",
            "1\n",
            "Вы проиграли!\n",
            "Этап  2\n",
            "Ваш ход\n",
            "1 -> Камень\n",
            "2 -> Ножницы\n",
            "3 -> Бумага \n",
            "1\n",
            "Вы победили!\n",
            "Этап  3\n",
            "Ваш ход\n",
            "1 -> Камень\n",
            "2 -> Ножницы\n",
            "3 -> Бумага \n",
            "1\n",
            "Вы проиграли!\n",
            "Этап  4\n",
            "Ваш ход\n",
            "1 -> Камень\n",
            "2 -> Ножницы\n",
            "3 -> Бумага \n",
            "1\n",
            "Вы победили!\n",
            "Этап  5\n",
            "Ваш ход\n",
            "1 -> Камень\n",
            "2 -> Ножницы\n",
            "3 -> Бумага \n",
            "1\n",
            "Ничья. Переигрываем.\n",
            "Ваш ход\n",
            "1 -> Камень\n",
            "2 -> Ножницы\n",
            "3 -> Бумага \n",
            "1\n",
            "Ничья. Переигрываем.\n",
            "Ваш ход\n",
            "1 -> Камень\n",
            "2 -> Ножницы\n",
            "3 -> Бумага \n",
            "1\n",
            "Вы проиграли!\n",
            "Вы проиграли со счетом  [2, 3]\n"
          ]
        }
      ]
    },
    {
      "cell_type": "markdown",
      "source": [
        "# **Задача 6.**"
      ],
      "metadata": {
        "id": "Hg4FJNFbLHQO"
      }
    },
    {
      "cell_type": "markdown",
      "source": [
        "Создайте игру \"Палач\" или \"Виселица\", в которой пользователь должен угадать слово, предлагая буквы. Программа должна выбрать случайное слово, а затем разрешить пользователю угадывать буквы. После каждого угадывания программа должна сообщать пользователю, есть ли в слове буква или нет.\n",
        "\n",
        "**Этап 1**\n",
        "Создать саму игру\n",
        "\n",
        "**Этап 2:**\n",
        "Ввести подсчет количества очков и ограничения на попытки"
      ],
      "metadata": {
        "id": "OHqj3HJuLJgY"
      }
    },
    {
      "cell_type": "code",
      "source": [
        "import random\n",
        "def printWord():\n",
        "  for i in range(0,len(word)):\n",
        "    print(preview[i], end = ' ')\n",
        "\n",
        "\n",
        "words = [\n",
        "    \"Яблоко\",\n",
        "    \"Компьютер\",\n",
        "    \"Программа\",\n",
        "    \"Питон\",\n",
        "    \"Океан\",\n",
        "    \"Прогулка\",\n",
        "    \"Слон\",\n",
        "    \"Библиотека\",\n",
        "    \"Автомобиль\",\n",
        "    \"Вулкан\",\n",
        "    \"Планета\",\n",
        "    \"Книга\",\n",
        "    \"Искусство\",\n",
        "    \"Галактика\",\n",
        "    \"Робот\",\n",
        "    \"Архитектура\",\n",
        "    \"Карандаш\",\n",
        "    \"Зонт\",\n",
        "    \"Химия\",\n",
        "    \"Лабиринт\",\n",
        "    \"Бактерия\",\n",
        "    \"Эксперимент\",\n",
        "    \"Фотография\",\n",
        "    \"Геометрия\",\n",
        "    \"Энциклопедия\",\n",
        "    \"Путешествие\",\n",
        "    \"Вентилятор\",\n",
        "    \"Искра\",\n",
        "    \"Стратегия\",\n",
        "    \"Симметрия\",\n",
        "    \"Музыка\",\n",
        "    \"Театр\",\n",
        "    \"Медведь\",\n",
        "    \"Инструмент\",\n",
        "    \"Фестиваль\",\n",
        "    \"Буря\",\n",
        "    \"Йога\",\n",
        "    \"Экология\",\n",
        "    \"Облако\",\n",
        "    \"Перспектива\",\n",
        "    \"Традиция\",\n",
        "    \"Гравитация\",\n",
        "    \"Механизм\",\n",
        "    \"Цветок\",\n",
        "    \"Хореография\",\n",
        "    \"Философия\",\n",
        "    \"Природа\",\n",
        "    \"Кристалл\",\n",
        "    \"Энергия\",\n",
        "    \"Реставрация\"\n",
        "]\n",
        "\n",
        "word = random.choice(words).lower()\n",
        "indxs = []\n",
        "corr = 0\n",
        "bool = True\n",
        "hp = 6\n",
        "preview = []\n",
        "for i in range(0, len(word)):\n",
        "  preview.append('_')\n",
        "while bool:\n",
        "  printWord()\n",
        "  inpu = input('\\n Введите букву или слово целиком:')\n",
        "  if inpu == word:\n",
        "    print(f'Вы победили! И у вас осталось {hp} попыток')\n",
        "    break\n",
        "  if len(inpu) > 1:\n",
        "    print('Слово неверное или вы ввели больше 1 буквы')\n",
        "  if inpu in word:\n",
        "    for i in range(len(word)):\n",
        "      if word[i] == inpu:\n",
        "        indxs.append(i)\n",
        "    for i in indxs:\n",
        "      preview[i] = word[i]\n",
        "    print('Вы угадали!')\n",
        "    corr += 1\n",
        "  else:\n",
        "    print('Вы не угадали!')\n",
        "    hp -= 1\n",
        "    if hp != 0:\n",
        "      print(f'Осталось {hp} попыток')\n",
        "    else:\n",
        "      print(f'Вы проиграли, угадано {corr} из {lenг(word)} букв. :()')\n",
        "      break\n",
        "\n",
        "\n",
        "  if len(preview) - preview.count('_') == len(word):\n",
        "    print(f'Вы победили! И у вас осталось {hp} попыток')\n",
        "    break"
      ],
      "metadata": {
        "id": "0N2zCYwVLiIw",
        "colab": {
          "base_uri": "https://localhost:8080/"
        },
        "outputId": "a1cfc3ee-cbbb-407e-bed0-7dd730a057cd"
      },
      "execution_count": null,
      "outputs": [
        {
          "output_type": "stream",
          "name": "stdout",
          "text": [
            "слон\n",
            "_ _ _ _ \n",
            " Введите букву или слово целиком:с\n",
            "Вы угадали!\n",
            "с _ _ _ \n",
            " Введите букву или слово целиком:л\n",
            "Вы угадали!\n",
            "с л _ _ \n",
            " Введите букву или слово целиком:ы\n",
            "Вы не угадали!\n",
            "Осталось 5 попыток\n",
            "с л _ _ \n",
            " Введите букву или слово целиком:в\n",
            "Вы не угадали!\n",
            "Осталось 4 попыток\n",
            "с л _ _ \n",
            " Введите букву или слово целиком:о\n",
            "Вы угадали!\n",
            "с л о _ \n",
            " Введите букву или слово целиком:н\n",
            "Вы угадали!\n",
            "Вы победили! И у вас осталось 4 попыток\n"
          ]
        }
      ]
    },
    {
      "cell_type": "markdown",
      "source": [
        "# **Задача 7.**\n"
      ],
      "metadata": {
        "id": "w0x3QFGzKtDD"
      }
    },
    {
      "cell_type": "markdown",
      "source": [
        "\n",
        "**Цифра на определенном месте:**\n",
        "\n",
        "Последовательно записан натуральный ряд чисел.\n",
        "\n",
        "Какая цифра стоит в N позиции\n",
        "\n",
        "\n",
        "Вввод:\n",
        "\n",
        "```\n",
        "Введите номер позиции: 1234567890\n",
        "```\n",
        "\n",
        "Вывод:\n",
        "\n",
        "```\n",
        "8\n",
        "```"
      ],
      "metadata": {
        "id": "QqZArcpHJxVj"
      }
    },
    {
      "cell_type": "code",
      "source": [],
      "metadata": {
        "id": "LwjYwBGcKiJ9"
      },
      "execution_count": null,
      "outputs": []
    }
  ]
}