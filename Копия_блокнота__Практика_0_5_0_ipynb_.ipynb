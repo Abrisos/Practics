{
  "nbformat": 4,
  "nbformat_minor": 0,
  "metadata": {
    "colab": {
      "provenance": []
    },
    "kernelspec": {
      "name": "python3",
      "display_name": "Python 3"
    },
    "language_info": {
      "name": "python"
    }
  },
  "cells": [
    {
      "cell_type": "markdown",
      "source": [
        "ФИО:"
      ],
      "metadata": {
        "id": "Bu5gIJfHNPHw"
      }
    },
    {
      "cell_type": "code",
      "execution_count": null,
      "metadata": {
        "id": "CbHI8c7cM9Eg"
      },
      "outputs": [],
      "source": [
        "Петрик Артём Александрович"
      ]
    },
    {
      "cell_type": "markdown",
      "source": [
        "# **Задание 1**"
      ],
      "metadata": {
        "id": "VrNrBpmocGRd"
      }
    },
    {
      "cell_type": "markdown",
      "source": [
        "\n",
        "\n",
        "Дан словарь, содержащий имена и возраст людей, напишите программу выводящую возраст человека по имени\n",
        "\n",
        "Дано:\n",
        "\n",
        "```\n",
        "{\"Alice\": 25, \"Bob\": 30, \"Charlie\": 35}\n",
        "```\n",
        "\n",
        "Вввод:\n",
        "\n",
        "\n",
        "```\n",
        "Alice\n",
        "```\n",
        "\n",
        "Вывод:\n",
        "\n",
        "\n",
        "```\n",
        "Alice 25\n",
        "```\n"
      ],
      "metadata": {
        "id": "XhV1bnm1bR2h"
      }
    },
    {
      "cell_type": "code",
      "source": [
        "dict = {\"Alice\": 25, \"Bob\": 30, \"Charlie\": 35}\n",
        "name = input('Введите имя: ')\n",
        "for k in dict.keys():\n",
        "  if k == name:\n",
        "    print(name, dict[name])"
      ],
      "metadata": {
        "id": "9T0nNFCEbpaF",
        "colab": {
          "base_uri": "https://localhost:8080/"
        },
        "outputId": "9a6269fd-6d37-4530-df87-612c05d41d36"
      },
      "execution_count": null,
      "outputs": [
        {
          "output_type": "stream",
          "name": "stdout",
          "text": [
            "Введите имя: Alice\n",
            "Alice 25\n"
          ]
        }
      ]
    },
    {
      "cell_type": "markdown",
      "source": [
        "# **Задание 2**\n"
      ],
      "metadata": {
        "id": "lpjJz-_YcJ-t"
      }
    },
    {
      "cell_type": "markdown",
      "source": [
        "\n",
        "\n",
        "Дан список, состоящий из целых чисел, необходимо написать функцию считающую сумму всех положительных четных чисел списка\n",
        "\n",
        "Ввод:\n",
        "\n",
        "```\n",
        "1, 2, 3, 4, 5, 6, 7, 8, 9\n",
        "```\n",
        "\n",
        "Вывод:\n",
        "\n",
        "\n",
        "```\n",
        "20\n",
        "```\n",
        "\n",
        "***Запрещено:***\n",
        "\n",
        "*   Использование готовых функций для суммирования чисел\n"
      ],
      "metadata": {
        "id": "tMEsAB4rUiWW"
      }
    },
    {
      "cell_type": "code",
      "source": [
        "def sumArr(arr):\n",
        "  ans = 0\n",
        "  for num in arr:\n",
        "    if num % 2 == 0 and num > 0:\n",
        "      ans += num\n",
        "  return ans\n",
        "\n",
        "\n",
        "arr = [1, 2, 3, 4, 5, 6, 7, 8, 9]\n",
        "print(sumArr(arr))"
      ],
      "metadata": {
        "id": "wDNUFLeqNQS_",
        "colab": {
          "base_uri": "https://localhost:8080/"
        },
        "outputId": "047b93d9-96e4-498b-fe05-1bbc15e87b4a"
      },
      "execution_count": null,
      "outputs": [
        {
          "output_type": "stream",
          "name": "stdout",
          "text": [
            "20\n"
          ]
        }
      ]
    },
    {
      "cell_type": "markdown",
      "source": [
        "# **Задание 3**"
      ],
      "metadata": {
        "id": "WT_v-vz1dUZJ"
      }
    },
    {
      "cell_type": "markdown",
      "source": [
        "Дан словарь, содержащий название фрукта и его цвет, выведите список всех желтых фруктов\n",
        "\n",
        "\n",
        "Дано:\n",
        "\n",
        "```\n",
        "fruits_and_colors = {\n",
        "    \"apple\": \"red\",\n",
        "    \"banana\": \"yellow\",\n",
        "    \"mango\": \"yellow\",\n",
        "    \"orange\": \"orange\",\n",
        "    \"lemon\": \"yellow\",\n",
        "    \"grape\": \"purple\"\n",
        "}\n",
        "```\n",
        "\n",
        "Вывод:\n",
        "\n",
        "\n",
        "```\n",
        "Yellow fruits:\n",
        "banana\n",
        "lemon\n",
        "mango\n",
        "```\n",
        "\n"
      ],
      "metadata": {
        "id": "ZI5Xeh2DdXgF"
      }
    },
    {
      "cell_type": "code",
      "source": [
        "fruits_and_colors = {\n",
        "    \"apple\": \"red\",\n",
        "    \"banana\": \"yellow\",\n",
        "    \"mango\": \"yellow\",\n",
        "    \"orange\": \"orange\",\n",
        "    \"lemon\": \"yellow\",\n",
        "    \"grape\": \"purple\"\n",
        "}\n",
        "\n",
        "print('Yellow fruits:')\n",
        "for k, v in fruits_and_colors.items():\n",
        "  if v == 'yellow':\n",
        "    print(k)"
      ],
      "metadata": {
        "id": "aNzFTkhKdkTG",
        "colab": {
          "base_uri": "https://localhost:8080/"
        },
        "outputId": "c08dc2db-7688-41f6-a911-4c8fd6629496"
      },
      "execution_count": null,
      "outputs": [
        {
          "output_type": "stream",
          "name": "stdout",
          "text": [
            "Yellow fruits:\n",
            "banana\n",
            "mango\n",
            "lemon\n"
          ]
        }
      ]
    },
    {
      "cell_type": "markdown",
      "source": [
        "# **Задание 4**\n"
      ],
      "metadata": {
        "id": "iHtMGt2icM7w"
      }
    },
    {
      "cell_type": "markdown",
      "source": [
        "\n",
        "\n",
        "Дан словарь, необходимо написать функцию меняющую ключ и значение местами\n",
        "\n",
        "Дано:\n",
        "\n",
        "\n",
        "```\n",
        "{\"a\": 1, \"b\": 2, \"c\": 3}\n",
        "```\n",
        "\n",
        "Вывод:\n",
        "\n",
        "```\n",
        "{1: 'a', 2: 'b', 3: 'c'}\n",
        "```\n",
        "\n"
      ],
      "metadata": {
        "id": "rS3THsnBQ_EB"
      }
    },
    {
      "cell_type": "code",
      "source": [
        "def dictSwap(first_dict):\n",
        "  second_dict = {}\n",
        "  for k,v in first_dict.items():\n",
        "    second_dict[str(v)] = k\n",
        "  return second_dict\n",
        "\n",
        "\n",
        "\n",
        "dict = {\"a\": 1, \"b\": 2, \"c\": 3}\n",
        "print(dictSwap(dict))"
      ],
      "metadata": {
        "id": "MNRusyLDcQ59",
        "colab": {
          "base_uri": "https://localhost:8080/"
        },
        "outputId": "85ab4734-dc1d-4adc-9dce-b02414d2b8d9"
      },
      "execution_count": null,
      "outputs": [
        {
          "output_type": "stream",
          "name": "stdout",
          "text": [
            "{'1': 'a', '2': 'b', '3': 'c'}\n"
          ]
        }
      ]
    },
    {
      "cell_type": "markdown",
      "source": [
        "# **Задание 5**"
      ],
      "metadata": {
        "id": "x6ff5nd0cUxD"
      }
    },
    {
      "cell_type": "markdown",
      "source": [
        "Дан список слов, неограниченной длинны, сформируйте словарь, где в качестве ключа будет слово, а в качестве значения количество символов\n",
        "\n",
        "**Критерии**\n",
        "\n",
        "\n",
        "*   Словарь необходимо отсортировать по убыванию количества элементов в списке.\n",
        "*   Подсчет элементов должен быть реализован в отдельной функции\n",
        "*   Сортировка пары `ключ:значение` должна быть реализована также в виде отдельной функции\n",
        "\n",
        "\n",
        "\n",
        "\n",
        "Дано:\n",
        "```\n",
        "['apple','banana','orange','apple','apple','banana']\n",
        "```\n",
        "\n",
        "\n",
        "Вывод:\n",
        "```\n",
        "{'apple':3, 'banana': 2, 'orange': 1}\n",
        "```\n",
        "\n",
        "***Запрещено:***\n",
        "\n",
        "*   Использование готовых функций для сортировки словаря\n",
        "*   Использование готовых функций для подсчета элементов\n",
        "\n"
      ],
      "metadata": {
        "id": "ypQNHOG4NQz3"
      }
    },
    {
      "cell_type": "code",
      "source": [
        "def arrCount(arr):\n",
        "  ans = {}\n",
        "  for i in arr:\n",
        "    if i not in ans:\n",
        "      ans[i] = 1\n",
        "    else:\n",
        "      ans[i] += 1\n",
        "  return ans\n",
        "def arrSort(arr):\n",
        "  newArr = [max(arr)]\n",
        "  arr.remove(max(arr))\n",
        "  while len(arr) >= len(newArr):\n",
        "    for i in arr:\n",
        "      if i <= newArr[-1]:\n",
        "        newArr.append(i)\n",
        "  return newArr\n",
        "\n",
        "def dictSort(unsorted):\n",
        "  ans = {}\n",
        "  arrKeys = []\n",
        "  arrValues = []\n",
        "  for v in unsorted.values():\n",
        "    arrValues.append(v)\n",
        "  sortedArr = arrSort(arrValues)\n",
        "  for value in sortedArr:\n",
        "    for k,v in unsorted.items():\n",
        "      if v == value:\n",
        "        ans[k] = value\n",
        "  return ans\n",
        "\n",
        "arr = ['apple','banana','orange','apple','apple','banana']\n",
        "print(dictSort(arrCount(arr)))\n"
      ],
      "metadata": {
        "id": "J10PjdVQUbyq",
        "colab": {
          "base_uri": "https://localhost:8080/"
        },
        "outputId": "cad0a736-4b80-4bda-ac19-0a6a720423e8"
      },
      "execution_count": null,
      "outputs": [
        {
          "output_type": "stream",
          "name": "stdout",
          "text": [
            "{'apple': 3, 'banana': 2, 'orange': 1}\n"
          ]
        }
      ]
    },
    {
      "cell_type": "markdown",
      "source": [
        "# **Задание 6**"
      ],
      "metadata": {
        "id": "d7fDUr2WcY_G"
      }
    },
    {
      "cell_type": "markdown",
      "source": [
        "Дан словарь, содержащий информацию о людях, необходимо:\n",
        "\n",
        "\n",
        "\n",
        "*   Вывести всех людей старше 30 лет\n",
        "*   Вывести список городов и количество людей из словаря проживающих в них\n",
        "*   Вывести список профессий и список людей для каждой профессии\n",
        "\n",
        "**Критерии**\n",
        "\n",
        "Каждый из пунктов необходимо реализовать в виде функции\n",
        "\n"
      ],
      "metadata": {
        "id": "m11qdVhSWBi7"
      }
    },
    {
      "cell_type": "code",
      "source": [
        "people_info = {\n",
        "    \"Alice\": {\"age\": 25, \"city\": \"New York\", \"occupation\": \"Engineer\"},\n",
        "    \"Bob\": {\"age\": 30, \"city\": \"Los Angeles\", \"occupation\": \"Designer\"},\n",
        "    \"Charlie\": {\"age\": 35, \"city\": \"Chicago\", \"occupation\": \"Teacher\"},\n",
        "    \"Diana\": {\"age\": 28, \"city\": \"Miami\", \"occupation\": \"Doctor\"},\n",
        "    \"Ethan\": {\"age\": 40, \"city\": \"Seattle\", \"occupation\": \"Chef\"},\n",
        "    \"Frank\": {\"age\": 32, \"city\": \"Atlanta\", \"occupation\": \"Lawyer\"},\n",
        "    \"Gabriella\": {\"age\": 29, \"city\": \"San Francisco\", \"occupation\": \"Software Engineer\"},\n",
        "    \"Harrison\": {\"age\": 38, \"city\": \"Denver\", \"occupation\": \"Architect\"},\n",
        "    \"Isabella\": {\"age\": 26, \"city\": \"Washington D.C.\", \"occupation\": \"Journalist\"},\n",
        "    \"Julian\": {\"age\": 42, \"city\": \"Miami\", \"occupation\": \"Musician\"},\n",
        "    \"Kate\": {\"age\": 31, \"city\": \"Philadelphia\", \"occupation\": \"Nurse\"},\n",
        "    \"Lucas\": {\"age\": 36, \"city\": \"Nashville\", \"occupation\": \"Businessman\"},\n",
        "    \"Mia\": {\"age\": 27, \"city\": \"Atlanta\", \"occupation\": \"Artist\"},\n",
        "    \"Natalie\": {\"age\": 39, \"city\": \"Portland\", \"occupation\": \"Writer\"},\n",
        "    \"Oliver\": {\"age\": 44, \"city\": \"Minneapolis\", \"occupation\": \"Professor\"},\n",
        "    \"Penelope\": {\"age\": 33, \"city\": \"San Diego\", \"occupation\": \"Marketing Manager\"},\n",
        "    \"Quincy\": {\"age\": 41, \"city\": \"Nashville\", \"occupation\": \"Singer\"},\n",
        "    \"Rachel\": {\"age\": 34, \"city\": \"Cleveland\", \"occupation\": \"Teacher\"},\n",
        "    \"Sophia\": {\"age\": 29, \"city\": \"Nashville\", \"occupation\": \"Engineer\"},\n",
        "    \"Tessa\": {\"age\": 37, \"city\": \"Miami\", \"occupation\": \"Lawyer\"}\n",
        "}"
      ],
      "metadata": {
        "id": "lSNtB39OWtFl"
      },
      "execution_count": null,
      "outputs": []
    },
    {
      "cell_type": "code",
      "source": [
        "def ageCompare(peopleinfo):\n",
        "  correct = []\n",
        "  for k, v in peopleinfo.items():\n",
        "    if v['age'] > 30:\n",
        "      correct.append(k)\n",
        "  return correct\n",
        "def cityInfo(peopleinfo):\n",
        "  city_dict = {}\n",
        "  for k, v in peopleinfo.items():\n",
        "    if v['city'] not in city_dict:\n",
        "      city_dict[v['city']] = 1\n",
        "    else:\n",
        "      city_dict[v['city']] += 1\n",
        "  return city_dict\n",
        "\n",
        "def occupationInfo(peopleinfo):\n",
        "  occupation_dict = {}\n",
        "  for k, v in peopleinfo.items():\n",
        "    if v['occupation'] not in occupation_dict:\n",
        "      occupation_dict[v['occupation']] = [k]\n",
        "    else:\n",
        "      occupation_dict[v['occupation']].append(k)\n",
        "  return(occupation_dict)\n",
        "\n",
        "\n",
        "\n",
        "\n",
        "people_info = {\n",
        "    \"Alice\": {\"age\": 25, \"city\": \"New York\", \"occupation\": \"Engineer\"},\n",
        "    \"Bob\": {\"age\": 30, \"city\": \"Los Angeles\", \"occupation\": \"Designer\"},\n",
        "    \"Charlie\": {\"age\": 35, \"city\": \"Chicago\", \"occupation\": \"Teacher\"},\n",
        "    \"Diana\": {\"age\": 28, \"city\": \"Miami\", \"occupation\": \"Doctor\"},\n",
        "    \"Ethan\": {\"age\": 40, \"city\": \"Seattle\", \"occupation\": \"Chef\"},\n",
        "    \"Frank\": {\"age\": 32, \"city\": \"Atlanta\", \"occupation\": \"Lawyer\"},\n",
        "    \"Gabriella\": {\"age\": 29, \"city\": \"San Francisco\", \"occupation\": \"Software Engineer\"},\n",
        "    \"Harrison\": {\"age\": 38, \"city\": \"Denver\", \"occupation\": \"Architect\"},\n",
        "    \"Isabella\": {\"age\": 26, \"city\": \"Washington D.C.\", \"occupation\": \"Journalist\"},\n",
        "    \"Julian\": {\"age\": 42, \"city\": \"Miami\", \"occupation\": \"Musician\"},\n",
        "    \"Kate\": {\"age\": 31, \"city\": \"Philadelphia\", \"occupation\": \"Nurse\"},\n",
        "    \"Lucas\": {\"age\": 36, \"city\": \"Nashville\", \"occupation\": \"Businessman\"},\n",
        "    \"Mia\": {\"age\": 27, \"city\": \"Atlanta\", \"occupation\": \"Artist\"},\n",
        "    \"Natalie\": {\"age\": 39, \"city\": \"Portland\", \"occupation\": \"Writer\"},\n",
        "    \"Oliver\": {\"age\": 44, \"city\": \"Minneapolis\", \"occupation\": \"Professor\"},\n",
        "    \"Penelope\": {\"age\": 33, \"city\": \"San Diego\", \"occupation\": \"Marketing Manager\"},\n",
        "    \"Quincy\": {\"age\": 41, \"city\": \"Nashville\", \"occupation\": \"Singer\"},\n",
        "    \"Rachel\": {\"age\": 34, \"city\": \"Cleveland\", \"occupation\": \"Teacher\"},\n",
        "    \"Sophia\": {\"age\": 29, \"city\": \"Nashville\", \"occupation\": \"Engineer\"},\n",
        "    \"Tessa\": {\"age\": 37, \"city\": \"Miami\", \"occupation\": \"Lawyer\"}\n",
        "}\n",
        "print(ageCompare(people_info))\n",
        "print(cityInfo(people_info))\n",
        "print(occupationInfo(people_info))"
      ],
      "metadata": {
        "id": "qcLO5eQwXkNK",
        "colab": {
          "base_uri": "https://localhost:8080/"
        },
        "outputId": "1eddaecf-56df-4371-d59e-4d27a0fe7050"
      },
      "execution_count": null,
      "outputs": [
        {
          "output_type": "stream",
          "name": "stdout",
          "text": [
            "['Charlie', 'Ethan', 'Frank', 'Harrison', 'Julian', 'Kate', 'Lucas', 'Natalie', 'Oliver', 'Penelope', 'Quincy', 'Rachel', 'Tessa']\n",
            "{'New York': 1, 'Los Angeles': 1, 'Chicago': 1, 'Miami': 3, 'Seattle': 1, 'Atlanta': 2, 'San Francisco': 1, 'Denver': 1, 'Washington D.C.': 1, 'Philadelphia': 1, 'Nashville': 3, 'Portland': 1, 'Minneapolis': 1, 'San Diego': 1, 'Cleveland': 1}\n",
            "{'Engineer': ['Alice', 'Sophia'], 'Designer': ['Bob'], 'Teacher': ['Charlie', 'Rachel'], 'Doctor': ['Diana'], 'Chef': ['Ethan'], 'Lawyer': ['Frank', 'Tessa'], 'Software Engineer': ['Gabriella'], 'Architect': ['Harrison'], 'Journalist': ['Isabella'], 'Musician': ['Julian'], 'Nurse': ['Kate'], 'Businessman': ['Lucas'], 'Artist': ['Mia'], 'Writer': ['Natalie'], 'Professor': ['Oliver'], 'Marketing Manager': ['Penelope'], 'Singer': ['Quincy']}\n"
          ]
        }
      ]
    },
    {
      "cell_type": "markdown",
      "source": [
        "# **Задание 7**"
      ],
      "metadata": {
        "id": "27IuB2YScezw"
      }
    },
    {
      "cell_type": "markdown",
      "source": [
        "Задание: Разработка системы отзывов о предметах\n",
        "\n",
        "Описание: Создать программу на Python для хранения и управления отзывами о предметах учебного курса. Программа должна позволять пользователям добавлять, просматривать и удалять отзывы, а также вычислять средний балл по заданному предмету.\n",
        "\n",
        "**Функционал:**\n",
        "\n",
        "*   Добавление отзыва и оценки:\n",
        "   *   Пользователь может ввести название предмета, оценку (от 1 до 5) и текст отзыва.\n",
        "   *   Отзывы должны храниться в структуре данных (например, словаре), где ключом будет название предмета, а значением - список отзывов (каждый отзыв может хранить оценку и комментарий).\n",
        "*   Просмотр отзывов и оценок:\n",
        "   *   Пользователь может запросить отзывы для указанного предмета.\n",
        "   *   Если для указанного предмета есть отзывы, программа должна отобразить список всех отзывов и соответствующих оценок.\n",
        "*   Удаление отзыва:\n",
        "   *   Пользователь может удалить отзыв по индексу. Необходимо заранее уведомить пользователя о том, какие отзывы доступны для удаления.\n",
        "   *   Программа должна обработать ситуацию, когда индекс введен неправильно.\n",
        "*   Вычисление среднего балла по предмету:\n",
        "   *   Пользователь может ввести название предмета, и программа должна вычислить и вывести средний балл по всем отзывам для этого предмета.\n",
        "   *   Если отзывов нет, программа должна сообщить об этом.\n",
        "\n",
        "\n",
        "**Критерии:**\n",
        "\n",
        "*   Код должен быть оформлен в виде функций\n",
        "*   Необходимо обрабатывать неправильный ввод пользователя\n",
        "*   Должны быть комментарии к функциям\n",
        "*   Присутсвует весь дополнительный функционал\n",
        "\n",
        "\n",
        "\n",
        "**Опционально:**\n",
        "\n",
        "Предлагаю вам добавить свои критерии оценки или вопросы, на которые должен ответить студент, чтобы оценить пару\n",
        "\n",
        "\n"
      ],
      "metadata": {
        "id": "Fd95-S9cYhct"
      }
    },
    {
      "cell_type": "code",
      "source": [
        "def startMenu():\n",
        "  print('\\n 1 -> Добавление отзыва и оценки \\n 2 -> Просмотр отзывов и оценок \\n 3 -> Удаление отзыва \\n 4 -> Вычисление среднего балла по предмету \\n 5 -> Выход')\n",
        "  numInput = int(input())\n",
        "  return numInput\n",
        "\n",
        "def start():\n",
        "  num = startMenu()\n",
        "  if num == 1:\n",
        "    addFeedback()\n",
        "  elif num == 2:\n",
        "    previewFeedback()\n",
        "  elif num == 3:\n",
        "    removeFeedback()\n",
        "  elif num == 4:\n",
        "    AverageScoreCalc()\n",
        "  elif num == 5:\n",
        "    print()\n",
        "  else:\n",
        "    print('Некорректный ввод')\n",
        "    start()\n",
        "print('Система отзывов о предметах')\n",
        "\n",
        "def addFeedback():\n",
        "  name = input('Введите название предмета: ')\n",
        "  score = int(input('Введите оценку: '))\n",
        "  text = input('Введите текст отзыва: ')\n",
        "  if name not in feedbacks:\n",
        "    feedbacks[name] = [[score, text]]\n",
        "  else:\n",
        "    feedbacks[name].append([score, text])\n",
        "  print('Отзыв успешно добавлен!')\n",
        "  start()\n",
        "\n",
        "\n",
        "def previewFeedback():\n",
        "  name = input('Введите название предмета: ')\n",
        "  if name not in feedbacks:\n",
        "    print('На этот предмет нет отзывов')\n",
        "  else:\n",
        "    for i in range(len(feedbacks[name])):\n",
        "      score, text = feedbacks[name][i][0], feedbacks[name][i][1]\n",
        "      print(f'\\n Оценка: {score} \\n Текст: {text}')\n",
        "  start()\n",
        "\n",
        "def removeFeedback():\n",
        "  name = input('Введите название предмета: ')\n",
        "  if name not in feedbacks:\n",
        "    print('На этот предмет нет отзывов')\n",
        "  else:\n",
        "    for i in range(len(feedbacks[name])):\n",
        "      score, text = feedbacks[name][i][0], feedbacks[name][i][1]\n",
        "      print(f'Доступные для удаления отзывы: \\n {i+1} -> Оценка: {score}. Текст: {text}.')\n",
        "    num = int(input('Введите номер отзыва который хотите удалить: ')) - 1\n",
        "    feedbacks[name].pop(num)\n",
        "    print('Отзыв успешно удалён!')\n",
        "  start()\n",
        "\n",
        "def AverageScoreCalc():\n",
        "  name = input('Введите название предмета: ')\n",
        "  if name not in feedbacks:\n",
        "    print('На этот предмет нет отзывов')\n",
        "  else:\n",
        "    summa = 0\n",
        "    for i in feedbacks[name]:\n",
        "      summa += i[0]\n",
        "    print('Средний балл по предмету: ', summa/len(feedbacks[name]))\n",
        "  start()\n",
        "\n",
        "feedbacks = {}\n",
        "start()\n",
        "\n"
      ],
      "metadata": {
        "id": "kzucJrCUa0o7",
        "colab": {
          "base_uri": "https://localhost:8080/"
        },
        "outputId": "fefccad2-7ca8-4598-fc42-3ab54b3f44f0"
      },
      "execution_count": null,
      "outputs": [
        {
          "output_type": "stream",
          "name": "stdout",
          "text": [
            "Система отзывов о предметах\n",
            "\n",
            " 1 -> Добавление отзыва и оценки \n",
            " 2 -> Просмотр отзывов и оценок \n",
            " 3 -> Удаление отзыва \n",
            " 4 -> Вычисление среднего балла по предмету \n",
            " 5 -> Выход\n",
            "1\n",
            "Введите название предмета: ал\n",
            "Введите оценку: 5\n",
            "Введите текст отзыва: выфхаыхфаф\n",
            "Отзыв успешно добавлен!\n",
            "\n",
            " 1 -> Добавление отзыва и оценки \n",
            " 2 -> Просмотр отзывов и оценок \n",
            " 3 -> Удаление отзыва \n",
            " 4 -> Вычисление среднего балла по предмету \n",
            " 5 -> Выход\n",
            "1\n",
            "Введите название предмета: ал\n",
            "Введите оценку: 4\n",
            "Введите текст отзыва: фхаывахфафы\n",
            "Отзыв успешно добавлен!\n",
            "\n",
            " 1 -> Добавление отзыва и оценки \n",
            " 2 -> Просмотр отзывов и оценок \n",
            " 3 -> Удаление отзыва \n",
            " 4 -> Вычисление среднего балла по предмету \n",
            " 5 -> Выход\n",
            "2\n",
            "Введите название предмета: ал\n",
            "\n",
            " Оценка: 5 \n",
            " Текст: выфхаыхфаф\n",
            "\n",
            " Оценка: 4 \n",
            " Текст: фхаывахфафы\n",
            "\n",
            " 1 -> Добавление отзыва и оценки \n",
            " 2 -> Просмотр отзывов и оценок \n",
            " 3 -> Удаление отзыва \n",
            " 4 -> Вычисление среднего балла по предмету \n",
            " 5 -> Выход\n",
            "4\n",
            "Введите название предмета: ал\n",
            "Среднего балл по предмету:  4.5\n"
          ]
        }
      ]
    }
  ]
}